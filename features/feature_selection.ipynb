{
 "cells": [
  {
   "cell_type": "code",
   "execution_count": 15,
   "id": "a8511e69-990d-46d6-aba0-5f10e3db32ef",
   "metadata": {
    "execution": {
     "iopub.execute_input": "2022-08-04T05:28:09.536256Z",
     "iopub.status.busy": "2022-08-04T05:28:09.535867Z",
     "iopub.status.idle": "2022-08-04T05:28:09.540883Z",
     "shell.execute_reply": "2022-08-04T05:28:09.540326Z",
     "shell.execute_reply.started": "2022-08-04T05:28:09.536231Z"
    },
    "tags": []
   },
   "outputs": [],
   "source": [
    "import numpy as np\n",
    "import pandas as pd\n",
    "from pathlib import Path\n",
    "import glob \n",
    "import os\n",
    "import matplotlib.pyplot as plt \n",
    "import matplotlib\n",
    "from datetime import datetime\n",
    "from sklearn.metrics import mean_absolute_error\n",
    "from sklearn.ensemble import GradientBoostingClassifier\n",
    "from sklearn.model_selection import train_test_split\n",
    "import gc\n",
    "from sklearn.impute import SimpleImputer\n",
    "from sklearn import preprocessing\n",
    "from scipy.stats import linregress \n",
    "from sklearn.feature_selection import RFE\n",
    "from sklearn.svm import SVR\n",
    "from sklearn.feature_selection import SelectKBest, chi2\n",
    "from itertools import compress\n",
    "from sklearn.decomposition import PCA\n",
    "import random"
   ]
  },
  {
   "cell_type": "code",
   "execution_count": 2,
   "id": "ad6991be-fba8-460e-b52f-b503a11d60d8",
   "metadata": {
    "execution": {
     "iopub.execute_input": "2022-08-04T05:14:45.339726Z",
     "iopub.status.busy": "2022-08-04T05:14:45.339334Z",
     "iopub.status.idle": "2022-08-04T05:14:45.342748Z",
     "shell.execute_reply": "2022-08-04T05:14:45.342090Z",
     "shell.execute_reply.started": "2022-08-04T05:14:45.339702Z"
    },
    "tags": []
   },
   "outputs": [],
   "source": [
    "path = Path('/home/jovyan/workspace/amex-challenge/archive')"
   ]
  },
  {
   "cell_type": "code",
   "execution_count": 3,
   "id": "6bc8964d-329b-40c9-b2d1-fd3f8d907c1e",
   "metadata": {
    "execution": {
     "iopub.execute_input": "2022-08-04T05:14:45.343811Z",
     "iopub.status.busy": "2022-08-04T05:14:45.343531Z",
     "iopub.status.idle": "2022-08-04T05:14:47.898174Z",
     "shell.execute_reply": "2022-08-04T05:14:47.897523Z",
     "shell.execute_reply.started": "2022-08-04T05:14:45.343789Z"
    },
    "tags": []
   },
   "outputs": [],
   "source": [
    "train_data = pd.read_feather(path / f'data/processed_train_data_v3.ftr')\n",
    "train_labels = pd.read_feather(path / f'data/train_labels.ftr')\n",
    "train_data = train_data.set_index(\"customer_ID\")\n",
    "train_labels = train_labels.set_index(\"customer_ID\")\n",
    "joined = train_data.join(train_labels)\n",
    "y = joined.target\n",
    "X = joined.drop(\"target\", axis=1)"
   ]
  },
  {
   "cell_type": "code",
   "execution_count": 4,
   "id": "0d80011d-5d8c-4f17-a320-a177c39ddbc6",
   "metadata": {
    "execution": {
     "iopub.execute_input": "2022-08-04T05:14:47.899766Z",
     "iopub.status.busy": "2022-08-04T05:14:47.899440Z",
     "iopub.status.idle": "2022-08-04T05:14:47.954111Z",
     "shell.execute_reply": "2022-08-04T05:14:47.953307Z",
     "shell.execute_reply.started": "2022-08-04T05:14:47.899744Z"
    },
    "tags": []
   },
   "outputs": [],
   "source": [
    "_ = gc.collect()"
   ]
  },
  {
   "cell_type": "code",
   "execution_count": 5,
   "id": "70e455c2-8126-48ad-9491-1ca0418436b2",
   "metadata": {
    "execution": {
     "iopub.execute_input": "2022-08-04T05:14:47.955390Z",
     "iopub.status.busy": "2022-08-04T05:14:47.955113Z",
     "iopub.status.idle": "2022-08-04T05:14:48.114651Z",
     "shell.execute_reply": "2022-08-04T05:14:48.113896Z",
     "shell.execute_reply.started": "2022-08-04T05:14:47.955369Z"
    },
    "tags": []
   },
   "outputs": [
    {
     "name": "stdout",
     "output_type": "stream",
     "text": [
      "Non-numerical columns: set()\n",
      "Columns with null values: set()\n"
     ]
    }
   ],
   "source": [
    "non_numeric_cols = set(X.columns).difference(set(X.select_dtypes(include=(np.number)).columns))\n",
    "print(\"Non-numerical columns:\", non_numeric_cols)\n",
    "\n",
    "cols_with_null = set(X.columns[X.isna().any()].tolist())\n",
    "print(\"Columns with null values:\", cols_with_null)"
   ]
  },
  {
   "cell_type": "markdown",
   "id": "bc8bdbf6-ec19-4964-a528-ab11ce9c120e",
   "metadata": {
    "tags": []
   },
   "source": [
    "# Feature Selection"
   ]
  },
  {
   "cell_type": "markdown",
   "id": "82ac1f95-a7ec-441c-9d39-f634a8fb6170",
   "metadata": {
    "jupyter": {
     "outputs_hidden": true
    },
    "tags": []
   },
   "source": [
    "## Correlation Filtering"
   ]
  },
  {
   "cell_type": "code",
   "execution_count": 10,
   "id": "996bc0f8-bb78-4c16-bdcd-cb4933b78a11",
   "metadata": {
    "execution": {
     "iopub.execute_input": "2022-08-04T05:16:14.802028Z",
     "iopub.status.busy": "2022-08-04T05:16:14.801625Z",
     "iopub.status.idle": "2022-08-04T05:16:15.100119Z",
     "shell.execute_reply": "2022-08-04T05:16:15.099383Z",
     "shell.execute_reply.started": "2022-08-04T05:16:14.802000Z"
    },
    "tags": []
   },
   "outputs": [],
   "source": [
    "kbest = SelectKBest(chi2, k=160).fit(X, y).get_support()\n",
    "selected_features = list(compress(X.columns, kbest))"
   ]
  },
  {
   "cell_type": "code",
   "execution_count": 13,
   "id": "25db8bf2-f699-40fd-8a8b-ef472a075708",
   "metadata": {
    "execution": {
     "iopub.execute_input": "2022-08-04T05:28:04.136241Z",
     "iopub.status.busy": "2022-08-04T05:28:04.135850Z",
     "iopub.status.idle": "2022-08-04T05:28:04.221095Z",
     "shell.execute_reply": "2022-08-04T05:28:04.220470Z",
     "shell.execute_reply.started": "2022-08-04T05:28:04.136215Z"
    },
    "tags": []
   },
   "outputs": [],
   "source": [
    "X_filtered = X[selected_features]"
   ]
  },
  {
   "cell_type": "markdown",
   "id": "0fe156c7-fb3f-49ed-a79c-5bc78e12ad64",
   "metadata": {},
   "source": [
    "## Dimensionality Reduction"
   ]
  },
  {
   "cell_type": "code",
   "execution_count": 19,
   "id": "c84e4eb9-ce8e-40c6-a574-d977d12e2524",
   "metadata": {
    "execution": {
     "iopub.execute_input": "2022-08-04T05:31:11.918349Z",
     "iopub.status.busy": "2022-08-04T05:31:11.917947Z",
     "iopub.status.idle": "2022-08-04T05:31:15.060644Z",
     "shell.execute_reply": "2022-08-04T05:31:15.059982Z",
     "shell.execute_reply.started": "2022-08-04T05:31:11.918322Z"
    },
    "tags": []
   },
   "outputs": [],
   "source": [
    "pca = PCA(n_components=80)\n",
    "X_shortened = pca.fit_transform(X_filtered, y)"
   ]
  },
  {
   "cell_type": "markdown",
   "id": "c91222f1-d24f-40bd-a46f-caacc04c17de",
   "metadata": {},
   "source": [
    "## Recursive Feature Elimination"
   ]
  },
  {
   "cell_type": "markdown",
   "id": "caf6ed9d-fe40-466c-ab67-e606f29a8abc",
   "metadata": {},
   "source": [
    "### XGB"
   ]
  },
  {
   "cell_type": "code",
   "execution_count": null,
   "id": "10dde4cb-47f3-412f-a68c-277db31401ff",
   "metadata": {
    "execution": {
     "iopub.execute_input": "2022-08-04T05:31:17.035932Z",
     "iopub.status.busy": "2022-08-04T05:31:17.035533Z"
    },
    "tags": []
   },
   "outputs": [
    {
     "name": "stdout",
     "output_type": "stream",
     "text": [
      "      Iter       Train Loss   Remaining Time \n",
      "         1           1.0601           13.43m\n",
      "         2           0.9957           13.29m\n",
      "         3           0.9436           13.14m\n",
      "         4           0.9005           12.99m\n",
      "         5           0.8646           12.84m\n",
      "         6           0.8340           12.72m\n",
      "         7           0.8075           12.57m\n",
      "         8           0.7851           12.43m\n",
      "         9           0.7660           12.36m\n",
      "        10           0.7487           12.21m\n",
      "        20           0.6521           11.01m\n",
      "        30           0.6127            9.57m\n",
      "        40           0.5909            8.17m\n",
      "        50           0.5781            6.82m\n",
      "        60           0.5682            5.47m\n",
      "        70           0.5619            4.10m\n",
      "        80           0.5568            2.73m\n",
      "        90           0.5527            1.37m\n",
      "       100           0.5496            0.00s\n",
      "      Iter       Train Loss   Remaining Time \n",
      "         1           1.0601           13.03m\n",
      "         2           0.9957           12.84m\n",
      "         3           0.9436           12.82m\n",
      "         4           0.9005           12.73m\n",
      "         5           0.8646           12.62m\n",
      "         6           0.8340           12.49m\n",
      "         7           0.8075           12.36m\n",
      "         8           0.7851           12.25m\n",
      "         9           0.7660           12.13m\n",
      "        10           0.7487           12.01m\n",
      "        20           0.6521           10.72m\n",
      "        30           0.6127            9.50m\n",
      "        40           0.5909            8.18m\n",
      "        50           0.5781            6.81m\n",
      "        60           0.5682            5.47m\n",
      "        70           0.5619            4.11m\n",
      "        80           0.5568            2.74m\n",
      "        90           0.5527            1.37m\n",
      "       100           0.5496            0.00s\n",
      "      Iter       Train Loss   Remaining Time \n",
      "         1           1.0601           13.62m\n",
      "         2           0.9957           13.39m\n",
      "         3           0.9436           13.25m\n",
      "         4           0.9005           12.98m\n",
      "         5           0.8646           12.84m\n",
      "         6           0.8340           12.66m\n",
      "         7           0.8075           12.51m\n",
      "         8           0.7851           12.37m\n",
      "         9           0.7660           12.22m\n",
      "        10           0.7487           12.10m\n",
      "        20           0.6521           10.66m\n",
      "        30           0.6127            9.28m\n"
     ]
    }
   ],
   "source": [
    "est = GradientBoostingClassifier(verbose=True)\n",
    "selector = RFE(est, n_features_to_select=30)\n",
    "selector = selector.fit(X_shortened, y)\n",
    "features = np.array(features)\n",
    "important = features[selector.support_]\n",
    "print(important)"
   ]
  },
  {
   "cell_type": "code",
   "execution_count": 39,
   "id": "fb0cba39-0a0f-4e40-9bf9-3cedb5e8ed07",
   "metadata": {
    "execution": {
     "iopub.execute_input": "2022-08-04T04:03:08.215298Z",
     "iopub.status.busy": "2022-08-04T04:03:08.214893Z",
     "iopub.status.idle": "2022-08-04T04:03:08.219643Z",
     "shell.execute_reply": "2022-08-04T04:03:08.219097Z",
     "shell.execute_reply.started": "2022-08-04T04:03:08.215273Z"
    },
    "tags": []
   },
   "outputs": [
    {
     "data": {
      "text/plain": [
       "{'B_3',\n",
       " 'B_38_7.0',\n",
       " 'B_41_null',\n",
       " 'B_42_null',\n",
       " 'B_5',\n",
       " 'D_113_null',\n",
       " 'D_116_1.0',\n",
       " 'D_131',\n",
       " 'D_137_null',\n",
       " 'D_144',\n",
       " 'D_41_null',\n",
       " 'D_44_null',\n",
       " 'D_47',\n",
       " 'D_51',\n",
       " 'D_59_null',\n",
       " 'D_63_CL',\n",
       " 'D_63_XL',\n",
       " 'D_76_null',\n",
       " 'D_77_null',\n",
       " 'D_84_null',\n",
       " 'D_87_null',\n",
       " 'D_91_null',\n",
       " 'R_20',\n",
       " 'R_23',\n",
       " 'R_24',\n",
       " 'S_11',\n",
       " 'S_13',\n",
       " 'S_9_null'}"
      ]
     },
     "execution_count": 39,
     "metadata": {},
     "output_type": "execute_result"
    }
   ],
   "source": [
    "important"
   ]
  },
  {
   "cell_type": "markdown",
   "id": "1c63a420-9e2a-4394-bc0f-13942957b840",
   "metadata": {},
   "source": [
    "# Output Data"
   ]
  },
  {
   "cell_type": "code",
   "execution_count": 18,
   "id": "3a4f14ab-981d-4dca-b7c6-d1577a6ae347",
   "metadata": {
    "execution": {
     "iopub.execute_input": "2022-08-03T00:51:10.375773Z",
     "iopub.status.busy": "2022-08-03T00:51:10.375478Z",
     "iopub.status.idle": "2022-08-03T00:51:15.012320Z",
     "shell.execute_reply": "2022-08-03T00:51:15.011666Z",
     "shell.execute_reply.started": "2022-08-03T00:51:10.375750Z"
    },
    "tags": []
   },
   "outputs": [],
   "source": [
    "version = 1\n",
    "output = co_data.reset_index()\n",
    "output.to_feather(path / f\"data/processed_{dataset}_data_v{version}.ftr\")"
   ]
  },
  {
   "cell_type": "code",
   "execution_count": 19,
   "id": "835f1c57-a864-40fc-8d57-99d591586b66",
   "metadata": {
    "execution": {
     "iopub.execute_input": "2022-08-03T00:51:15.014038Z",
     "iopub.status.busy": "2022-08-03T00:51:15.013747Z",
     "iopub.status.idle": "2022-08-03T00:51:15.018503Z",
     "shell.execute_reply": "2022-08-03T00:51:15.017784Z",
     "shell.execute_reply.started": "2022-08-03T00:51:15.014017Z"
    },
    "tags": []
   },
   "outputs": [
    {
     "data": {
      "text/plain": [
       "(458913, 346)"
      ]
     },
     "execution_count": 19,
     "metadata": {},
     "output_type": "execute_result"
    }
   ],
   "source": [
    "output.shape"
   ]
  },
  {
   "cell_type": "code",
   "execution_count": null,
   "id": "60682286-dde2-4ec1-8244-67dfd1ad0835",
   "metadata": {},
   "outputs": [],
   "source": [
    "{'B_3',\n",
    " 'B_38_7.0',\n",
    " 'B_41_null',\n",
    " 'B_42_null',\n",
    " 'B_5',\n",
    " 'D_113_null',\n",
    " 'D_116_1.0',\n",
    " 'D_131',\n",
    " 'D_137_null',\n",
    " 'D_144',\n",
    " 'D_41_null',\n",
    " 'D_44_null',\n",
    " 'D_47',\n",
    " 'D_51',\n",
    " 'D_59_null',\n",
    " 'D_63_CL',\n",
    " 'D_63_XL',\n",
    " 'D_76_null',\n",
    " 'D_77_null',\n",
    " 'D_84_null',\n",
    " 'D_87_null',\n",
    " 'D_91_null',\n",
    " 'R_20',\n",
    " 'R_23',\n",
    " 'R_24',\n",
    " 'S_11',\n",
    " 'S_13',\n",
    " 'S_9_null'}"
   ]
  },
  {
   "cell_type": "code",
   "execution_count": null,
   "id": "3db278fe-ddd4-4034-82af-1a34f2c50bf1",
   "metadata": {},
   "outputs": [],
   "source": []
  }
 ],
 "metadata": {
  "kernelspec": {
   "display_name": "saturn (Python 3)",
   "language": "python",
   "name": "python3"
  },
  "language_info": {
   "codemirror_mode": {
    "name": "ipython",
    "version": 3
   },
   "file_extension": ".py",
   "mimetype": "text/x-python",
   "name": "python",
   "nbconvert_exporter": "python",
   "pygments_lexer": "ipython3",
   "version": "3.9.10"
  }
 },
 "nbformat": 4,
 "nbformat_minor": 5
}
