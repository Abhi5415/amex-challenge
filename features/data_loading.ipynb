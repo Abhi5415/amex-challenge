{
 "cells": [
  {
   "cell_type": "code",
   "execution_count": 1,
   "id": "5ed54716-9aba-402f-a247-bd6577d3f86c",
   "metadata": {
    "execution": {
     "iopub.execute_input": "2022-08-04T06:11:16.319313Z",
     "iopub.status.busy": "2022-08-04T06:11:16.319044Z",
     "iopub.status.idle": "2022-08-04T06:11:17.444679Z",
     "shell.execute_reply": "2022-08-04T06:11:17.444076Z",
     "shell.execute_reply.started": "2022-08-04T06:11:16.319257Z"
    },
    "tags": []
   },
   "outputs": [],
   "source": [
    "import numpy as np\n",
    "import pandas as pd\n",
    "from pathlib import Path\n",
    "import glob \n",
    "import os\n",
    "import matplotlib.pyplot as plt \n",
    "import matplotlib\n",
    "from datetime import datetime\n",
    "from sklearn.metrics import mean_absolute_error\n",
    "from sklearn.ensemble import GradientBoostingClassifier\n",
    "from sklearn.model_selection import train_test_split\n",
    "import gc\n",
    "from sklearn import preprocessing"
   ]
  },
  {
   "cell_type": "code",
   "execution_count": 2,
   "id": "e7f7ac80-1835-43ea-b5a4-f63db01b9e47",
   "metadata": {
    "execution": {
     "iopub.execute_input": "2022-08-04T06:11:17.450190Z",
     "iopub.status.busy": "2022-08-04T06:11:17.449999Z",
     "iopub.status.idle": "2022-08-04T06:11:17.453121Z",
     "shell.execute_reply": "2022-08-04T06:11:17.452618Z",
     "shell.execute_reply.started": "2022-08-04T06:11:17.450172Z"
    },
    "tags": []
   },
   "outputs": [],
   "source": [
    "path = Path('/home/jovyan/workspace/amex-challenge/archive/data')"
   ]
  },
  {
   "cell_type": "code",
   "execution_count": 3,
   "id": "8d154763-4a98-4cc7-8ceb-80a85d13912e",
   "metadata": {
    "execution": {
     "iopub.execute_input": "2022-08-02T23:16:58.014579Z",
     "iopub.status.busy": "2022-08-02T23:16:58.013861Z",
     "iopub.status.idle": "2022-08-02T23:21:17.264443Z",
     "shell.execute_reply": "2022-08-02T23:21:17.263752Z",
     "shell.execute_reply.started": "2022-08-02T23:16:58.014552Z"
    },
    "tags": []
   },
   "outputs": [],
   "source": [
    "train_data = pd.read_csv(\n",
    "    path / 'amex/train_data.csv')\n",
    "train_data.to_feather(path / 'train_data.ftr')"
   ]
  },
  {
   "cell_type": "code",
   "execution_count": 5,
   "id": "e6e526b6-bd5c-4a53-adce-b5c64ab3059c",
   "metadata": {
    "execution": {
     "iopub.execute_input": "2022-08-02T23:43:45.013916Z",
     "iopub.status.busy": "2022-08-02T23:43:45.013535Z",
     "iopub.status.idle": "2022-08-02T23:43:45.648403Z",
     "shell.execute_reply": "2022-08-02T23:43:45.647746Z",
     "shell.execute_reply.started": "2022-08-02T23:43:45.013892Z"
    },
    "tags": []
   },
   "outputs": [],
   "source": [
    "train_labels = pd.read_csv(path / 'amex/train_labels.csv')\n",
    "train_labels.to_feather(path / 'train_labels.ftr')"
   ]
  },
  {
   "cell_type": "code",
   "execution_count": 3,
   "id": "f43cb653-0083-4821-a4d7-b7dd80178170",
   "metadata": {
    "execution": {
     "iopub.execute_input": "2022-08-04T06:11:18.941505Z",
     "iopub.status.busy": "2022-08-04T06:11:18.941131Z",
     "iopub.status.idle": "2022-08-04T06:17:46.824770Z",
     "shell.execute_reply": "2022-08-04T06:17:46.824120Z",
     "shell.execute_reply.started": "2022-08-04T06:11:18.941480Z"
    },
    "tags": []
   },
   "outputs": [],
   "source": [
    "test_data = pd.read_csv(\n",
    "    path / 'amex/test_data.csv')\n",
    "test_data.to_feather(path / 'test_data.ftr')"
   ]
  },
  {
   "cell_type": "code",
   "execution_count": null,
   "id": "c8bc450f-a2ef-4d2a-9870-0d49716cefa2",
   "metadata": {},
   "outputs": [],
   "source": []
  }
 ],
 "metadata": {
  "kernelspec": {
   "display_name": "saturn (Python 3)",
   "language": "python",
   "name": "python3"
  },
  "language_info": {
   "codemirror_mode": {
    "name": "ipython",
    "version": 3
   },
   "file_extension": ".py",
   "mimetype": "text/x-python",
   "name": "python",
   "nbconvert_exporter": "python",
   "pygments_lexer": "ipython3",
   "version": "3.9.10"
  }
 },
 "nbformat": 4,
 "nbformat_minor": 5
}
