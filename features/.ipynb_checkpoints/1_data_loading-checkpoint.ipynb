{
 "cells": [
  {
   "cell_type": "code",
   "execution_count": 3,
   "id": "5ed54716-9aba-402f-a247-bd6577d3f86c",
   "metadata": {
    "execution": {
     "iopub.execute_input": "2022-08-06T14:20:10.367427Z",
     "iopub.status.busy": "2022-08-06T14:20:10.367042Z",
     "iopub.status.idle": "2022-08-06T14:20:10.372008Z",
     "shell.execute_reply": "2022-08-06T14:20:10.371113Z",
     "shell.execute_reply.started": "2022-08-06T14:20:10.367402Z"
    },
    "tags": []
   },
   "outputs": [],
   "source": [
    "import numpy as np\n",
    "import pandas as pd\n",
    "from pathlib import Path\n",
    "import glob \n",
    "import os\n",
    "import matplotlib.pyplot as plt \n",
    "import matplotlib\n",
    "from datetime import datetime\n",
    "from sklearn.metrics import mean_absolute_error\n",
    "from sklearn.ensemble import GradientBoostingClassifier\n",
    "from sklearn.model_selection import train_test_split\n",
    "import gc\n",
    "from sklearn import preprocessing"
   ]
  },
  {
   "cell_type": "code",
   "execution_count": 8,
   "id": "e7f7ac80-1835-43ea-b5a4-f63db01b9e47",
   "metadata": {
    "execution": {
     "iopub.execute_input": "2022-08-06T14:23:54.122077Z",
     "iopub.status.busy": "2022-08-06T14:23:54.121675Z",
     "iopub.status.idle": "2022-08-06T14:23:54.125285Z",
     "shell.execute_reply": "2022-08-06T14:23:54.124738Z",
     "shell.execute_reply.started": "2022-08-06T14:23:54.122050Z"
    },
    "tags": []
   },
   "outputs": [],
   "source": [
    "path = Path('/home/jovyan/workspace/amex-challenge/archive/data')"
   ]
  },
  {
   "cell_type": "code",
   "execution_count": 9,
   "id": "affdaf3d-e27e-4d38-bf31-71508cdc3fac",
   "metadata": {
    "execution": {
     "iopub.execute_input": "2022-08-06T14:24:04.990058Z",
     "iopub.status.busy": "2022-08-06T14:24:04.989666Z",
     "iopub.status.idle": "2022-08-06T14:24:04.993057Z",
     "shell.execute_reply": "2022-08-06T14:24:04.992484Z",
     "shell.execute_reply.started": "2022-08-06T14:24:04.990032Z"
    }
   },
   "outputs": [],
   "source": [
    "dataset = \"train\""
   ]
  },
  {
   "cell_type": "code",
   "execution_count": 10,
   "id": "8d154763-4a98-4cc7-8ceb-80a85d13912e",
   "metadata": {
    "execution": {
     "iopub.execute_input": "2022-08-06T14:24:06.107369Z",
     "iopub.status.busy": "2022-08-06T14:24:06.106987Z",
     "iopub.status.idle": "2022-08-06T14:24:12.678925Z",
     "shell.execute_reply": "2022-08-06T14:24:12.678153Z",
     "shell.execute_reply.started": "2022-08-06T14:24:06.107342Z"
    },
    "tags": []
   },
   "outputs": [],
   "source": [
    "data = pd.read_feather(path / f'{dataset}_data.ftr')"
   ]
  },
  {
   "cell_type": "code",
   "execution_count": null,
   "id": "deb548a4-703d-46ce-98a0-8f0accb5aa69",
   "metadata": {
    "execution": {
     "iopub.execute_input": "2022-08-06T14:24:12.684697Z",
     "iopub.status.busy": "2022-08-06T14:24:12.684362Z"
    },
    "tags": []
   },
   "outputs": [],
   "source": [
    "categorical_cols = ['B_30', 'B_38', 'D_114', 'D_116', 'D_117', 'D_120', 'D_126', 'D_63', 'D_64', 'D_66', 'D_68']\n",
    "data[categorical_cols] = data[categorical_cols].fillna(value=\"unknown\").astype(\"category\")"
   ]
  },
  {
   "cell_type": "code",
   "execution_count": 5,
   "id": "e6e526b6-bd5c-4a53-adce-b5c64ab3059c",
   "metadata": {
    "execution": {
     "iopub.execute_input": "2022-08-02T23:43:45.013916Z",
     "iopub.status.busy": "2022-08-02T23:43:45.013535Z",
     "iopub.status.idle": "2022-08-02T23:43:45.648403Z",
     "shell.execute_reply": "2022-08-02T23:43:45.647746Z",
     "shell.execute_reply.started": "2022-08-02T23:43:45.013892Z"
    },
    "tags": []
   },
   "outputs": [],
   "source": [
    "train_labels = pd.read_csv(path / 'amex/train_labels.csv')\n",
    "train_labels.to_feather(path / 'train_labels.ftr')"
   ]
  },
  {
   "cell_type": "code",
   "execution_count": null,
   "id": "c8bc450f-a2ef-4d2a-9870-0d49716cefa2",
   "metadata": {},
   "outputs": [],
   "source": [
    "train_data.to_feather(path / 'train_data.ftr')"
   ]
  }
 ],
 "metadata": {
  "kernelspec": {
   "display_name": "saturn (Python 3)",
   "language": "python",
   "name": "python3"
  },
  "language_info": {
   "codemirror_mode": {
    "name": "ipython",
    "version": 3
   },
   "file_extension": ".py",
   "mimetype": "text/x-python",
   "name": "python",
   "nbconvert_exporter": "python",
   "pygments_lexer": "ipython3",
   "version": "3.9.10"
  }
 },
 "nbformat": 4,
 "nbformat_minor": 5
}
