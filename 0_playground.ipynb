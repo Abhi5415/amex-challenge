{
 "cells": [
  {
   "cell_type": "code",
   "execution_count": 1,
   "id": "8d43f292-304f-4038-9c10-2a80d1bc205f",
   "metadata": {
    "execution": {
     "iopub.execute_input": "2022-08-07T21:04:25.140976Z",
     "iopub.status.busy": "2022-08-07T21:04:25.140530Z",
     "iopub.status.idle": "2022-08-07T21:04:26.316067Z",
     "shell.execute_reply": "2022-08-07T21:04:26.315408Z",
     "shell.execute_reply.started": "2022-08-07T21:04:25.140900Z"
    }
   },
   "outputs": [],
   "source": [
    "import pickle\n",
    "import numpy as np\n",
    "import pandas as pd\n",
    "import glob \n",
    "import gc\n",
    "import os\n",
    "\n",
    "\n",
    "from datetime import datetime\n",
    "from pathlib import Path\n",
    "\n",
    "import matplotlib.pyplot as plt \n",
    "import matplotlib\n",
    "\n",
    "from numpy.random import randint\n",
    "\n",
    "from scipy.stats import linregress \n",
    "from scipy.special import logsumexp \n",
    "\n",
    "from sklearn.impute import SimpleImputer, MissingIndicator\n",
    "from sklearn import preprocessing\n",
    "from sklearn.metrics import mean_absolute_error, make_scorer\n",
    "from sklearn.ensemble import GradientBoostingClassifier\n",
    "from sklearn.feature_selection import SelectFromModel, SelectPercentile, chi2, f_regression\n",
    "from sklearn.model_selection import train_test_split, cross_validate\n",
    "from sklearn.preprocessing import OneHotEncoder, StandardScaler, MinMaxScaler\n",
    "from sklearn.compose import ColumnTransformer\n",
    "from sklearn.pipeline import Pipeline, FeatureUnion\n",
    "from sklearn.model_selection import StratifiedKFold\n",
    "from sklearn.base import BaseEstimator, TransformerMixin"
   ]
  },
  {
   "cell_type": "code",
   "execution_count": 2,
   "id": "5282788d-13a1-4941-a1ea-aa8178624f78",
   "metadata": {
    "execution": {
     "iopub.execute_input": "2022-08-07T21:04:55.111266Z",
     "iopub.status.busy": "2022-08-07T21:04:55.110753Z",
     "iopub.status.idle": "2022-08-07T21:04:55.120299Z",
     "shell.execute_reply": "2022-08-07T21:04:55.119658Z",
     "shell.execute_reply.started": "2022-08-07T21:04:55.111238Z"
    }
   },
   "outputs": [],
   "source": [
    "def amex_metric(y, y_pred, **kwargs):\n",
    "    y_true_pd = pd.DataFrame(y, columns=['target'])\n",
    "    y_pred_pd = pd.DataFrame(y_pred, columns=['prediction'])\n",
    "    \n",
    "    def top_four_percent_captured(y_true: pd.DataFrame, y_pred: pd.DataFrame) -> float:\n",
    "        df = (pd.concat([y_true, y_pred], axis='columns')\n",
    "              .sort_values('prediction', ascending=False))\n",
    "        df['weight'] = df['target'].apply(lambda x: 20 if x==0 else 1)\n",
    "        four_pct_cutoff = int(0.04 * df['weight'].sum())\n",
    "        df['weight_cumsum'] = df['weight'].cumsum()\n",
    "        df_cutoff = df.loc[df['weight_cumsum'] <= four_pct_cutoff]\n",
    "        return (df_cutoff['target'] == 1).sum() / (df['target'] == 1).sum()\n",
    "        \n",
    "    def weighted_gini(y_true: pd.DataFrame, y_pred: pd.DataFrame) -> float:\n",
    "        df = (pd.concat([y_true, y_pred], axis='columns')\n",
    "              .sort_values('prediction', ascending=False))\n",
    "        df['weight'] = df['target'].apply(lambda x: 20 if x==0 else 1)\n",
    "        df['random'] = (df['weight'] / df['weight'].sum()).cumsum()\n",
    "        total_pos = (df['target'] * df['weight']).sum()\n",
    "        df['cum_pos_found'] = (df['target'] * df['weight']).cumsum()\n",
    "        df['lorentz'] = df['cum_pos_found'] / total_pos\n",
    "        df['gini'] = (df['lorentz'] - df['random']) * df['weight']\n",
    "        return df['gini'].sum()\n",
    "\n",
    "    def normalized_weighted_gini(y_true: pd.DataFrame, y_pred: pd.DataFrame) -> float:\n",
    "        y_true_pred = y_true.rename(columns={'target': 'prediction'})\n",
    "        return weighted_gini(y_true, y_pred) / weighted_gini(y_true, y_true_pred)\n",
    "\n",
    "    g = normalized_weighted_gini(y_true_pd, y_pred_pd)\n",
    "    d = top_four_percent_captured(y_true_pd, y_pred_pd)\n",
    "\n",
    "    return 0.5 * (g + d)"
   ]
  },
  {
   "cell_type": "code",
   "execution_count": 10,
   "id": "68ceceed-dc8f-4284-8c94-b6223ad916cd",
   "metadata": {
    "execution": {
     "iopub.execute_input": "2022-08-07T21:07:21.819039Z",
     "iopub.status.busy": "2022-08-07T21:07:21.818645Z",
     "iopub.status.idle": "2022-08-07T21:07:21.834879Z",
     "shell.execute_reply": "2022-08-07T21:07:21.834255Z",
     "shell.execute_reply.started": "2022-08-07T21:07:21.819011Z"
    },
    "tags": []
   },
   "outputs": [
    {
     "data": {
      "text/plain": [
       "1.0"
      ]
     },
     "execution_count": 10,
     "metadata": {},
     "output_type": "execute_result"
    }
   ],
   "source": [
    "amex_metric(\n",
    "    [1,1,1,1,0,0,0,0,0,0,0,0,0],\n",
    "    [1,1,1,1,1,1,0,0,0,0,0,0,0],\n",
    ")"
   ]
  },
  {
   "cell_type": "code",
   "execution_count": null,
   "id": "377520db-0d81-4554-a266-26143b2667f5",
   "metadata": {},
   "outputs": [],
   "source": []
  }
 ],
 "metadata": {
  "kernelspec": {
   "display_name": "saturn (Python 3)",
   "language": "python",
   "name": "python3"
  },
  "language_info": {
   "codemirror_mode": {
    "name": "ipython",
    "version": 3
   },
   "file_extension": ".py",
   "mimetype": "text/x-python",
   "name": "python",
   "nbconvert_exporter": "python",
   "pygments_lexer": "ipython3",
   "version": "3.9.10"
  }
 },
 "nbformat": 4,
 "nbformat_minor": 5
}
