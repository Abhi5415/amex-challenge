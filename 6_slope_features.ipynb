{
 "cells": [
  {
   "cell_type": "code",
   "execution_count": 31,
   "id": "cb9b8ef1-855e-456a-986d-684a6888cd8f",
   "metadata": {
    "execution": {
     "iopub.execute_input": "2022-08-06T22:15:19.354091Z",
     "iopub.status.busy": "2022-08-06T22:15:19.353705Z",
     "iopub.status.idle": "2022-08-06T22:15:19.359227Z",
     "shell.execute_reply": "2022-08-06T22:15:19.358668Z",
     "shell.execute_reply.started": "2022-08-06T22:15:19.354068Z"
    },
    "tags": []
   },
   "outputs": [],
   "source": [
    "import pickle\n",
    "import numpy as np\n",
    "import pandas as pd\n",
    "import glob \n",
    "import gc\n",
    "import os\n",
    "\n",
    "from datetime import datetime\n",
    "from pathlib import Path\n",
    "\n",
    "import matplotlib.pyplot as plt \n",
    "import matplotlib\n",
    "\n",
    "from numpy.random import randint\n",
    "\n",
    "from scipy.stats import linregress \n",
    "\n",
    "from sklearn.impute import SimpleImputer, MissingIndicator\n",
    "from sklearn import preprocessing\n",
    "from sklearn.metrics import mean_absolute_error, make_scorer\n",
    "from sklearn.ensemble import GradientBoostingClassifier\n",
    "from sklearn.feature_selection import SelectFromModel, SelectPercentile, chi2\n",
    "from sklearn.model_selection import train_test_split, cross_validate\n",
    "from sklearn.preprocessing import OneHotEncoder, StandardScaler\n",
    "from sklearn.compose import ColumnTransformer\n",
    "from sklearn.pipeline import Pipeline, FeatureUnion\n",
    "from sklearn.model_selection import StratifiedKFold\n",
    "from sklearn.base import BaseEstimator, TransformerMixin"
   ]
  },
  {
   "cell_type": "code",
   "execution_count": 6,
   "id": "2fe0f0c9-7146-420d-b563-0a94c8405372",
   "metadata": {
    "execution": {
     "iopub.execute_input": "2022-08-06T20:55:20.032738Z",
     "iopub.status.busy": "2022-08-06T20:55:20.032356Z",
     "iopub.status.idle": "2022-08-06T20:55:20.036354Z",
     "shell.execute_reply": "2022-08-06T20:55:20.035623Z",
     "shell.execute_reply.started": "2022-08-06T20:55:20.032715Z"
    },
    "tags": []
   },
   "outputs": [],
   "source": [
    "path = Path('/home/jovyan/workspace/amex-challenge/archive')"
   ]
  },
  {
   "cell_type": "code",
   "execution_count": 7,
   "id": "c2ba9d48-0934-4163-bd97-536e63b6aa57",
   "metadata": {
    "execution": {
     "iopub.execute_input": "2022-08-06T20:55:20.335221Z",
     "iopub.status.busy": "2022-08-06T20:55:20.334846Z",
     "iopub.status.idle": "2022-08-06T20:55:20.346009Z",
     "shell.execute_reply": "2022-08-06T20:55:20.345201Z",
     "shell.execute_reply.started": "2022-08-06T20:55:20.335197Z"
    },
    "tags": []
   },
   "outputs": [],
   "source": [
    "class DateTransformer(BaseEstimator, TransformerMixin):\n",
    "    def fit(self, X, y=None):\n",
    "        return self\n",
    "\n",
    "    def transform(self, X, y=None):\n",
    "        X[\"S_2\"] = pd.to_datetime(X[\"S_2\"]).astype(int)/ 10**9\n",
    "        return X\n",
    "    \n",
    "class CoalesceTransformer(BaseEstimator, TransformerMixin):\n",
    "    def fit(self, X, y=None):\n",
    "        return self\n",
    "\n",
    "    def transform(self, X, y=None):\n",
    "        X = X.sort_values('S_2').groupby(\"customer_ID\").tail(1)\n",
    "        return X\n",
    "    \n",
    "def amex_metric(y, y_pred, **kwargs):\n",
    "    y_true_pd = pd.DataFrame(y, columns=['target'])\n",
    "    y_pred_pd = pd.DataFrame(y_pred, columns=['prediction'])\n",
    "    \n",
    "    def top_four_percent_captured(y_true: pd.DataFrame, y_pred: pd.DataFrame) -> float:\n",
    "        df = (pd.concat([y_true, y_pred], axis='columns')\n",
    "              .sort_values('prediction', ascending=False))\n",
    "        df['weight'] = df['target'].apply(lambda x: 20 if x==0 else 1)\n",
    "        four_pct_cutoff = int(0.04 * df['weight'].sum())\n",
    "        df['weight_cumsum'] = df['weight'].cumsum()\n",
    "        df_cutoff = df.loc[df['weight_cumsum'] <= four_pct_cutoff]\n",
    "        return (df_cutoff['target'] == 1).sum() / (df['target'] == 1).sum()\n",
    "        \n",
    "    def weighted_gini(y_true: pd.DataFrame, y_pred: pd.DataFrame) -> float:\n",
    "        df = (pd.concat([y_true, y_pred], axis='columns')\n",
    "              .sort_values('prediction', ascending=False))\n",
    "        df['weight'] = df['target'].apply(lambda x: 20 if x==0 else 1)\n",
    "        df['random'] = (df['weight'] / df['weight'].sum()).cumsum()\n",
    "        total_pos = (df['target'] * df['weight']).sum()\n",
    "        df['cum_pos_found'] = (df['target'] * df['weight']).cumsum()\n",
    "        df['lorentz'] = df['cum_pos_found'] / total_pos\n",
    "        df['gini'] = (df['lorentz'] - df['random']) * df['weight']\n",
    "        return df['gini'].sum()\n",
    "\n",
    "    def normalized_weighted_gini(y_true: pd.DataFrame, y_pred: pd.DataFrame) -> float:\n",
    "        y_true_pred = y_true.rename(columns={'target': 'prediction'})\n",
    "        return weighted_gini(y_true, y_pred) / weighted_gini(y_true, y_true_pred)\n",
    "\n",
    "    g = normalized_weighted_gini(y_true_pd, y_pred_pd)\n",
    "    d = top_four_percent_captured(y_true_pd, y_pred_pd)\n",
    "\n",
    "    return 0.5 * (g + d)\n",
    "\n",
    "amex_scorer = make_scorer(amex_metric)"
   ]
  },
  {
   "cell_type": "code",
   "execution_count": 8,
   "id": "e3fa847f-48ed-4661-abe7-f37e7e41ad8f",
   "metadata": {
    "execution": {
     "iopub.execute_input": "2022-08-06T20:55:20.600787Z",
     "iopub.status.busy": "2022-08-06T20:55:20.600389Z",
     "iopub.status.idle": "2022-08-06T20:55:41.636530Z",
     "shell.execute_reply": "2022-08-06T20:55:41.635867Z",
     "shell.execute_reply.started": "2022-08-06T20:55:20.600761Z"
    },
    "tags": []
   },
   "outputs": [],
   "source": [
    "train_data = pd.read_feather(path / f'data/train_data.ftr')\n",
    "train_labels = pd.read_feather(path / f'data/train_labels.ftr')\n",
    "train_data = train_data.set_index(\"customer_ID\")\n",
    "train_labels = train_labels.set_index(\"customer_ID\")\n",
    "joined = train_data.join(train_labels)\n"
   ]
  },
  {
   "cell_type": "code",
   "execution_count": 26,
   "id": "42d68335-28d8-499f-b466-fefc311401ed",
   "metadata": {
    "execution": {
     "iopub.execute_input": "2022-08-06T22:13:21.957470Z",
     "iopub.status.busy": "2022-08-06T22:13:21.957094Z",
     "iopub.status.idle": "2022-08-06T22:13:24.500463Z",
     "shell.execute_reply": "2022-08-06T22:13:24.499818Z",
     "shell.execute_reply.started": "2022-08-06T22:13:21.957448Z"
    },
    "tags": []
   },
   "outputs": [],
   "source": [
    "categorical_cols = ['B_30', 'B_38', 'D_114', 'D_116', 'D_117', 'D_120', 'D_126', 'D_63', 'D_64', 'D_66', 'D_68']\n",
    "numerical_cols = set(joined.select_dtypes(include=(np.number)).columns)\n",
    "non_numeric_cols = set(joined.columns).difference(numerical_cols)\n",
    "cols_with_null = set(joined.columns[joined.isna().any()].tolist())"
   ]
  },
  {
   "cell_type": "code",
   "execution_count": 27,
   "id": "ac0dd1ac-1998-4cba-8009-77b4df9c3670",
   "metadata": {
    "execution": {
     "iopub.execute_input": "2022-08-06T22:13:24.502137Z",
     "iopub.status.busy": "2022-08-06T22:13:24.501630Z",
     "iopub.status.idle": "2022-08-06T22:13:24.505012Z",
     "shell.execute_reply": "2022-08-06T22:13:24.504474Z",
     "shell.execute_reply.started": "2022-08-06T22:13:24.502115Z"
    },
    "tags": []
   },
   "outputs": [],
   "source": [
    "non_leaking_pipe = Pipeline([\n",
    "    ('coalesce', CoalesceTransformer()),\n",
    "    ('date', DateTransformer()),\n",
    "])"
   ]
  },
  {
   "cell_type": "code",
   "execution_count": 28,
   "id": "7356cce1-8be8-495a-947d-f0bb8d4777dd",
   "metadata": {
    "execution": {
     "iopub.execute_input": "2022-08-06T22:13:24.505869Z",
     "iopub.status.busy": "2022-08-06T22:13:24.505679Z",
     "iopub.status.idle": "2022-08-06T22:13:47.260932Z",
     "shell.execute_reply": "2022-08-06T22:13:47.260286Z",
     "shell.execute_reply.started": "2022-08-06T22:13:24.505852Z"
    },
    "tags": []
   },
   "outputs": [],
   "source": [
    "joined_processed = non_leaking_pipe.fit_transform(joined)"
   ]
  },
  {
   "cell_type": "code",
   "execution_count": 42,
   "id": "01102ce5-5b05-4f2c-98ec-ff2e1cd7b90c",
   "metadata": {
    "execution": {
     "iopub.execute_input": "2022-08-06T22:19:23.962834Z",
     "iopub.status.busy": "2022-08-06T22:19:23.962438Z",
     "iopub.status.idle": "2022-08-06T22:19:24.210195Z",
     "shell.execute_reply": "2022-08-06T22:19:24.209580Z",
     "shell.execute_reply.started": "2022-08-06T22:19:23.962810Z"
    },
    "tags": []
   },
   "outputs": [],
   "source": [
    "y = joined_processed.target\n",
    "X = joined_processed.drop(\"target\", axis=1)"
   ]
  },
  {
   "cell_type": "code",
   "execution_count": 50,
   "id": "8d3233ff-6dfe-41ab-9509-399d4e921e27",
   "metadata": {
    "execution": {
     "iopub.execute_input": "2022-08-06T22:21:47.581309Z",
     "iopub.status.busy": "2022-08-06T22:21:47.580929Z",
     "iopub.status.idle": "2022-08-06T22:21:47.585343Z",
     "shell.execute_reply": "2022-08-06T22:21:47.584759Z",
     "shell.execute_reply.started": "2022-08-06T22:21:47.581285Z"
    },
    "tags": []
   },
   "outputs": [],
   "source": [
    "handle_null_numerical = FeatureUnion([\n",
    "         ('features', SimpleImputer()),\n",
    "         ('indicators', MissingIndicator())\n",
    "])\n",
    "\n",
    "preprocessor = ColumnTransformer([\n",
    "    ('categorical_encoder', OneHotEncoder(handle_unknown='ignore'), categorical_cols),\n",
    "    ('numerical_imputer', handle_null_numerical, list(cols_with_null - non_numeric_cols)),\n",
    "    # ('select_best', SelectPercentile(chi2, percentile=40), list(numerical_cols))\n",
    "], \n",
    "remainder=\"passthrough\")"
   ]
  },
  {
   "cell_type": "code",
   "execution_count": 51,
   "id": "b6e06bcf-ad61-46a9-aa53-4e7107fd1873",
   "metadata": {
    "execution": {
     "iopub.execute_input": "2022-08-06T22:21:48.373861Z",
     "iopub.status.busy": "2022-08-06T22:21:48.373473Z",
     "iopub.status.idle": "2022-08-06T22:21:48.377518Z",
     "shell.execute_reply": "2022-08-06T22:21:48.376960Z",
     "shell.execute_reply.started": "2022-08-06T22:21:48.373837Z"
    },
    "tags": []
   },
   "outputs": [],
   "source": [
    "pipe = Pipeline([\n",
    "    ('preprocessor', preprocessor),\n",
    "    ('feature_selection', SelectFromModel(GradientBoostingClassifier(n_estimators=30,verbose=True))),\n",
    "    ('xgb', GradientBoostingClassifier(verbose=True))\n",
    "])"
   ]
  },
  {
   "cell_type": "code",
   "execution_count": 52,
   "id": "2b437055-a412-4dff-ab43-a8d212da8aa6",
   "metadata": {
    "execution": {
     "iopub.execute_input": "2022-08-06T22:21:48.585076Z",
     "iopub.status.busy": "2022-08-06T22:21:48.584738Z",
     "iopub.status.idle": "2022-08-06T22:40:09.891274Z",
     "shell.execute_reply": "2022-08-06T22:40:09.890601Z",
     "shell.execute_reply.started": "2022-08-06T22:21:48.585054Z"
    },
    "tags": []
   },
   "outputs": [
    {
     "name": "stderr",
     "output_type": "stream",
     "text": [
      "[Parallel(n_jobs=5)]: Using backend LokyBackend with 5 concurrent workers.\n",
      "[Parallel(n_jobs=5)]: Done   2 out of   5 | elapsed: 18.2min remaining: 27.4min\n",
      "[Parallel(n_jobs=5)]: Done   3 out of   5 | elapsed: 18.3min remaining: 12.2min\n",
      "[Parallel(n_jobs=5)]: Done   5 out of   5 | elapsed: 18.4min remaining:    0.0s\n",
      "[Parallel(n_jobs=5)]: Done   5 out of   5 | elapsed: 18.4min finished\n"
     ]
    }
   ],
   "source": [
    "cv = StratifiedKFold(n_splits=5, random_state=None, shuffle=False)\n",
    "scorer = {'precision': 'precision', 'recall':'recall', 'f1':'f1', 'accuracy':'accuracy', 'balanced_accuracy': 'balanced_accuracy', \"amex\": amex_scorer}\n",
    "scores = cross_validate(pipe, X, y, cv=cv, n_jobs=5,\n",
    "                        scoring=scorer,\n",
    "                        return_train_score=True, verbose=10)"
   ]
  },
  {
   "cell_type": "code",
   "execution_count": 53,
   "id": "1f405db9-d684-4eea-bcd9-c326f3d5453c",
   "metadata": {
    "execution": {
     "iopub.execute_input": "2022-08-06T22:40:09.892621Z",
     "iopub.status.busy": "2022-08-06T22:40:09.892332Z",
     "iopub.status.idle": "2022-08-06T22:40:09.898501Z",
     "shell.execute_reply": "2022-08-06T22:40:09.898007Z",
     "shell.execute_reply.started": "2022-08-06T22:40:09.892600Z"
    },
    "tags": []
   },
   "outputs": [
    {
     "data": {
      "text/plain": [
       "{'fit_time': array([1086.59127951, 1093.40652776, 1072.86420822, 1089.91100478,\n",
       "        1088.84847474]),\n",
       " 'score_time': array([1.153548  , 1.19327378, 1.1656158 , 1.17159557, 1.17122173]),\n",
       " 'test_precision': array([0.7721007 , 0.79288773, 0.79676343, 0.79796573, 0.79013445]),\n",
       " 'train_precision': array([0.79455744, 0.79187123, 0.79123406, 0.79148355, 0.79376923]),\n",
       " 'test_recall': array([0.78717496, 0.79462257, 0.79344442, 0.79558174, 0.78388386]),\n",
       " 'train_recall': array([0.79765837, 0.79234605, 0.79284046, 0.79187486, 0.7922746 ]),\n",
       " 'test_f1': array([0.77956496, 0.7937542 , 0.79510046, 0.79677195, 0.78699675]),\n",
       " 'train_f1': array([0.79610488, 0.79210857, 0.79203644, 0.79167916, 0.79302121]),\n",
       " 'test_accuracy': array([0.88472811, 0.89307388, 0.89410893, 0.89491404, 0.89013096]),\n",
       " 'train_accuracy': array([0.89420369, 0.8923079 , 0.8921935 , 0.89209029, 0.89291288]),\n",
       " 'test_balanced_accuracy': array([0.85299468, 0.86104829, 0.8613634 , 0.86260114, 0.85556867]),\n",
       " 'train_balanced_accuracy': array([0.86279775, 0.85979058, 0.85987422, 0.85949066, 0.8601757 ]),\n",
       " 'test_amex': array([ 0.00276232,  0.01097803,  0.00178171,  0.01631681, -0.02875968]),\n",
       " 'train_amex': array([-0.02359403, -0.0241607 , -0.02351616, -0.02438901, -0.02153241])}"
      ]
     },
     "execution_count": 53,
     "metadata": {},
     "output_type": "execute_result"
    },
    {
     "name": "stdout",
     "output_type": "stream",
     "text": [
      "[CV] START .....................................................................\n",
      "[CV] END  accuracy: (train=nan, test=nan) amex: (train=nan, test=nan) balanced_accuracy: (train=nan, test=nan) f1: (train=nan, test=nan) precision: (train=nan, test=nan) recall: (train=nan, test=nan) total time=   0.3s\n",
      "[CV] START .....................................................................\n",
      "[CV] END  accuracy: (train=nan, test=nan) amex: (train=nan, test=nan) balanced_accuracy: (train=nan, test=nan) f1: (train=nan, test=nan) precision: (train=nan, test=nan) recall: (train=nan, test=nan) total time=   3.0s\n",
      "[CV] START .....................................................................\n",
      "      Iter       Train Loss   Remaining Time \n",
      "         1           1.0479           13.12m\n",
      "         2           0.9737           12.67m\n",
      "         3           0.9137           12.22m\n",
      "         4           0.8650           11.77m\n",
      "         5           0.8237           11.31m\n",
      "         6           0.7887           10.86m\n",
      "         7           0.7584           10.41m\n",
      "         8           0.7324            9.96m\n",
      "         9           0.7104            9.50m\n",
      "        10           0.6905            9.05m\n",
      "        20           0.5787            4.53m\n",
      "        30           0.5330            0.00s\n",
      "      Iter       Train Loss   Remaining Time \n",
      "         1           1.0479            4.25m\n",
      "         2           0.9737            4.18m\n",
      "         3           0.9137            4.13m\n",
      "         4           0.8650            4.08m\n",
      "         5           0.8237            4.04m\n",
      "         6           0.7887            3.99m\n",
      "         7           0.7584            3.95m\n",
      "         8           0.7324            3.90m\n",
      "         9           0.7104            3.86m\n",
      "        10           0.6905            3.82m\n",
      "        20           0.5788            3.40m\n",
      "        30           0.5352            2.98m\n",
      "        40           0.5144            2.55m\n",
      "        50           0.5031            2.12m\n",
      "        60           0.4969            1.70m\n",
      "        70           0.4926            1.27m\n",
      "        80           0.4896           50.75s\n",
      "        90           0.4870           25.36s\n",
      "       100           0.4851            0.00s\n",
      "[CV] END  accuracy: (train=0.892, test=0.894) amex: (train=-0.024, test=0.002) balanced_accuracy: (train=0.860, test=0.861) f1: (train=0.792, test=0.795) precision: (train=0.791, test=0.797) recall: (train=0.793, test=0.793) total time=17.9min\n",
      "[CV] START .....................................................................\n",
      "[CV] END  accuracy: (train=nan, test=nan) amex: (train=nan, test=nan) balanced_accuracy: (train=nan, test=nan) f1: (train=nan, test=nan) precision: (train=nan, test=nan) recall: (train=nan, test=nan) total time=   0.3s\n",
      "[CV] START .....................................................................\n",
      "[CV] END  accuracy: (train=nan, test=nan) amex: (train=nan, test=nan) balanced_accuracy: (train=nan, test=nan) f1: (train=nan, test=nan) precision: (train=nan, test=nan) recall: (train=nan, test=nan) total time=   3.0s\n",
      "[CV] START .....................................................................\n",
      "      Iter       Train Loss   Remaining Time \n",
      "         1           1.0463           13.10m\n",
      "         2           0.9711           12.63m\n",
      "         3           0.9104           12.19m\n",
      "         4           0.8609           11.72m\n",
      "         5           0.8192           11.27m\n",
      "         6           0.7834           10.82m\n",
      "         7           0.7531           10.37m\n",
      "         8           0.7269            9.92m\n",
      "         9           0.7045            9.47m\n",
      "        10           0.6845            9.02m\n",
      "        20           0.5710            4.51m\n",
      "        30           0.5263            0.00s\n",
      "      Iter       Train Loss   Remaining Time \n",
      "         1           1.0463            4.51m\n",
      "         2           0.9711            4.47m\n",
      "         3           0.9104            4.42m\n",
      "         4           0.8609            4.36m\n",
      "         5           0.8192            4.31m\n",
      "         6           0.7834            4.27m\n",
      "         7           0.7531            4.21m\n",
      "         8           0.7269            4.17m\n",
      "         9           0.7046            4.12m\n",
      "        10           0.6845            4.08m\n",
      "        20           0.5708            3.63m\n",
      "        30           0.5270            3.18m\n",
      "        40           0.5066            2.72m\n",
      "        50           0.4951            2.26m\n",
      "        60           0.4886            1.81m\n",
      "        70           0.4844            1.36m\n",
      "        80           0.4815           54.18s\n",
      "        90           0.4792           27.07s\n",
      "       100           0.4775            0.00s\n",
      "[CV] END  accuracy: (train=0.894, test=0.885) amex: (train=-0.024, test=0.003) balanced_accuracy: (train=0.863, test=0.853) f1: (train=0.796, test=0.780) precision: (train=0.795, test=0.772) recall: (train=0.798, test=0.787) total time=18.1min\n",
      "[CV] START .....................................................................\n",
      "[CV] END  accuracy: (train=nan, test=nan) amex: (train=nan, test=nan) balanced_accuracy: (train=nan, test=nan) f1: (train=nan, test=nan) precision: (train=nan, test=nan) recall: (train=nan, test=nan) total time=   0.3s\n",
      "[CV] START .....................................................................\n",
      "[CV] END  accuracy: (train=nan, test=nan) amex: (train=nan, test=nan) balanced_accuracy: (train=nan, test=nan) f1: (train=nan, test=nan) precision: (train=nan, test=nan) recall: (train=nan, test=nan) total time=   3.0s\n",
      "[CV] START .....................................................................\n",
      "      Iter       Train Loss   Remaining Time \n",
      "         1           1.0476           13.08m\n",
      "         2           0.9729           12.64m\n",
      "         3           0.9134           12.20m\n",
      "         4           0.8641           11.74m\n",
      "         5           0.8226           11.29m\n",
      "         6           0.7870           10.84m\n",
      "         7           0.7566           10.38m\n",
      "         8           0.7308            9.93m\n",
      "         9           0.7080            9.48m\n",
      "        10           0.6884            9.03m\n",
      "        20           0.5765            4.52m\n",
      "        30           0.5308            0.00s\n",
      "      Iter       Train Loss   Remaining Time \n",
      "         1           1.0476            4.56m\n",
      "         2           0.9729            4.47m\n",
      "         3           0.9134            4.42m\n",
      "         4           0.8641            4.37m\n",
      "         5           0.8226            4.32m\n",
      "         6           0.7870            4.27m\n",
      "         7           0.7566            4.22m\n",
      "         8           0.7308            4.18m\n",
      "         9           0.7080            4.13m\n",
      "        10           0.6883            4.08m\n",
      "        20           0.5767            3.64m\n",
      "        30           0.5322            3.18m\n",
      "        40           0.5109            2.73m\n",
      "        50           0.5002            2.27m\n",
      "        60           0.4938            1.81m\n",
      "        70           0.4895            1.36m\n",
      "        80           0.4866           54.22s\n",
      "        90           0.4844           27.10s\n",
      "       100           0.4823            0.00s\n",
      "[CV] END  accuracy: (train=0.893, test=0.890) amex: (train=-0.022, test=-0.029) balanced_accuracy: (train=0.860, test=0.856) f1: (train=0.793, test=0.787) precision: (train=0.794, test=0.790) recall: (train=0.792, test=0.784) total time=18.2min\n",
      "[CV] START .....................................................................\n",
      "[CV] END  accuracy: (train=nan, test=nan) amex: (train=nan, test=nan) balanced_accuracy: (train=nan, test=nan) f1: (train=nan, test=nan) precision: (train=nan, test=nan) recall: (train=nan, test=nan) total time=   0.3s\n",
      "[CV] START .....................................................................\n",
      "[CV] END  accuracy: (train=nan, test=nan) amex: (train=nan, test=nan) balanced_accuracy: (train=nan, test=nan) f1: (train=nan, test=nan) precision: (train=nan, test=nan) recall: (train=nan, test=nan) total time=   3.0s\n",
      "[CV] START .....................................................................\n",
      "      Iter       Train Loss   Remaining Time \n",
      "         1           1.0481           13.17m\n",
      "         2           0.9741           12.72m\n",
      "         3           0.9145           12.26m\n",
      "         4           0.8659           11.81m\n",
      "         5           0.8248           11.36m\n",
      "         6           0.7896           10.90m\n",
      "         7           0.7595           10.45m\n",
      "         8           0.7336           10.00m\n",
      "         9           0.7115            9.54m\n",
      "        10           0.6917            9.09m\n",
      "        20           0.5794            4.54m\n",
      "        30           0.5346            0.00s\n",
      "      Iter       Train Loss   Remaining Time \n",
      "         1           1.0481            4.49m\n",
      "         2           0.9741            4.44m\n",
      "         3           0.9145            4.39m\n",
      "         4           0.8659            4.35m\n",
      "         5           0.8248            4.30m\n",
      "         6           0.7896            4.25m\n",
      "         7           0.7595            4.20m\n",
      "         8           0.7336            4.16m\n",
      "         9           0.7114            4.11m\n",
      "        10           0.6917            4.07m\n",
      "        20           0.5803            3.63m\n",
      "        30           0.5351            3.17m\n",
      "        40           0.5141            2.72m\n",
      "        50           0.5029            2.26m\n",
      "        60           0.4966            1.81m\n",
      "        70           0.4926            1.35m\n",
      "        80           0.4895           54.09s\n",
      "        90           0.4871           27.03s\n",
      "       100           0.4855            0.00s\n",
      "[CV] END  accuracy: (train=0.892, test=0.895) amex: (train=-0.024, test=0.016) balanced_accuracy: (train=0.859, test=0.863) f1: (train=0.792, test=0.797) precision: (train=0.791, test=0.798) recall: (train=0.792, test=0.796) total time=18.2min\n",
      "[CV] START .....................................................................\n",
      "[CV] END  accuracy: (train=nan, test=nan) amex: (train=nan, test=nan) balanced_accuracy: (train=nan, test=nan) f1: (train=nan, test=nan) precision: (train=nan, test=nan) recall: (train=nan, test=nan) total time=   0.3s\n",
      "[CV] START .....................................................................\n",
      "[CV] END  accuracy: (train=nan, test=nan) amex: (train=nan, test=nan) balanced_accuracy: (train=nan, test=nan) f1: (train=nan, test=nan) precision: (train=nan, test=nan) recall: (train=nan, test=nan) total time=   3.0s\n",
      "[CV] START .....................................................................\n",
      "      Iter       Train Loss   Remaining Time \n",
      "         1           1.0478           13.16m\n",
      "         2           0.9733           12.71m\n",
      "         3           0.9135           12.26m\n",
      "         4           0.8647           11.80m\n",
      "         5           0.8234           11.34m\n",
      "         6           0.7881           10.89m\n",
      "         7           0.7580           10.44m\n",
      "         8           0.7321            9.99m\n",
      "         9           0.7099            9.53m\n",
      "        10           0.6896            9.08m\n",
      "        20           0.5775            4.54m\n",
      "        30           0.5318            0.00s\n",
      "      Iter       Train Loss   Remaining Time \n",
      "         1           1.0478            4.47m\n",
      "         2           0.9733            4.43m\n",
      "         3           0.9135            4.39m\n",
      "         4           0.8647            4.35m\n",
      "         5           0.8234            4.30m\n",
      "         6           0.7881            4.26m\n",
      "         7           0.7580            4.21m\n",
      "         8           0.7319            4.17m\n",
      "         9           0.7097            4.12m\n",
      "        10           0.6895            4.08m\n",
      "        20           0.5776            3.64m\n",
      "        30           0.5333            3.19m\n",
      "        40           0.5132            2.73m\n",
      "        50           0.5016            2.27m\n",
      "        60           0.4952            1.81m\n",
      "        70           0.4908            1.36m\n",
      "        80           0.4878           54.37s\n",
      "        90           0.4856           27.17s\n",
      "       100           0.4839            0.00s\n",
      "[CV] END  accuracy: (train=0.892, test=0.893) amex: (train=-0.024, test=0.011) balanced_accuracy: (train=0.860, test=0.861) f1: (train=0.792, test=0.794) precision: (train=0.792, test=0.793) recall: (train=0.792, test=0.795) total time=18.2min\n"
     ]
    }
   ],
   "source": [
    "scores"
   ]
  },
  {
   "cell_type": "code",
   "execution_count": null,
   "id": "7a5de9ce-66e4-481c-9b33-6c67038a423a",
   "metadata": {},
   "outputs": [],
   "source": []
  }
 ],
 "metadata": {
  "kernelspec": {
   "display_name": "saturn (Python 3)",
   "language": "python",
   "name": "python3"
  },
  "language_info": {
   "codemirror_mode": {
    "name": "ipython",
    "version": 3
   },
   "file_extension": ".py",
   "mimetype": "text/x-python",
   "name": "python",
   "nbconvert_exporter": "python",
   "pygments_lexer": "ipython3",
   "version": "3.9.10"
  }
 },
 "nbformat": 4,
 "nbformat_minor": 5
}
