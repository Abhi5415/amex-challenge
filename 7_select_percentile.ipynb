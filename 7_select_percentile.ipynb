{
 "cells": [
  {
   "cell_type": "code",
   "execution_count": 1,
   "id": "cb9b8ef1-855e-456a-986d-684a6888cd8f",
   "metadata": {
    "execution": {
     "iopub.execute_input": "2022-08-07T20:12:05.960882Z",
     "iopub.status.busy": "2022-08-07T20:12:05.960444Z",
     "iopub.status.idle": "2022-08-07T20:12:07.267212Z",
     "shell.execute_reply": "2022-08-07T20:12:07.266585Z",
     "shell.execute_reply.started": "2022-08-07T20:12:05.960805Z"
    },
    "tags": []
   },
   "outputs": [],
   "source": [
    "import pickle\n",
    "import numpy as np\n",
    "import pandas as pd\n",
    "import glob \n",
    "import gc\n",
    "import os\n",
    "\n",
    "\n",
    "from datetime import datetime\n",
    "from pathlib import Path\n",
    "\n",
    "import matplotlib.pyplot as plt \n",
    "import matplotlib\n",
    "\n",
    "from numpy.random import randint\n",
    "\n",
    "from scipy.stats import linregress \n",
    "from scipy.special import logsumexp \n",
    "\n",
    "from sklearn.impute import SimpleImputer, MissingIndicator\n",
    "from sklearn import preprocessing\n",
    "from sklearn.metrics import mean_absolute_error, make_scorer\n",
    "from sklearn.ensemble import GradientBoostingClassifier\n",
    "from sklearn.feature_selection import SelectFromModel, SelectPercentile, chi2, f_regression\n",
    "from sklearn.model_selection import train_test_split, cross_validate\n",
    "from sklearn.preprocessing import OneHotEncoder, StandardScaler, MinMaxScaler\n",
    "from sklearn.compose import ColumnTransformer\n",
    "from sklearn.pipeline import Pipeline, FeatureUnion\n",
    "from sklearn.model_selection import StratifiedKFold\n",
    "from sklearn.base import BaseEstimator, TransformerMixin"
   ]
  },
  {
   "cell_type": "code",
   "execution_count": 2,
   "id": "2fe0f0c9-7146-420d-b563-0a94c8405372",
   "metadata": {
    "execution": {
     "iopub.execute_input": "2022-08-07T20:12:07.268730Z",
     "iopub.status.busy": "2022-08-07T20:12:07.268316Z",
     "iopub.status.idle": "2022-08-07T20:12:07.271741Z",
     "shell.execute_reply": "2022-08-07T20:12:07.271182Z",
     "shell.execute_reply.started": "2022-08-07T20:12:07.268707Z"
    },
    "tags": []
   },
   "outputs": [],
   "source": [
    "path = Path('/home/jovyan/workspace/amex-challenge/archive')"
   ]
  },
  {
   "cell_type": "code",
   "execution_count": 3,
   "id": "c2ba9d48-0934-4163-bd97-536e63b6aa57",
   "metadata": {
    "execution": {
     "iopub.execute_input": "2022-08-07T20:12:07.358144Z",
     "iopub.status.busy": "2022-08-07T20:12:07.357544Z",
     "iopub.status.idle": "2022-08-07T20:12:07.370360Z",
     "shell.execute_reply": "2022-08-07T20:12:07.369759Z",
     "shell.execute_reply.started": "2022-08-07T20:12:07.358117Z"
    },
    "tags": []
   },
   "outputs": [],
   "source": [
    "class DateTransformer(BaseEstimator, TransformerMixin):\n",
    "    def fit(self, X, y=None):\n",
    "        return self\n",
    "\n",
    "    def transform(self, X, y=None):\n",
    "        X[\"S_2\"] = pd.to_datetime(X[\"S_2\"]).astype(int)/ 10**9\n",
    "        return X\n",
    "    \n",
    "class CoalesceTransformer(BaseEstimator, TransformerMixin):\n",
    "    def fit(self, X, y=None):\n",
    "        return self\n",
    "\n",
    "    def transform(self, X, y=None):\n",
    "        numerical_cols = joined.select_dtypes(include=(np.number)).columns.to_list()\n",
    "        numerical_cols.remove('S_2')\n",
    "        group = X.sort_values('S_2').groupby(\"customer_ID\")\n",
    "        def applyFunc(v):\n",
    "            return v[list(numerical_cols)].fillna(0).pct_change().fillna(0).clip(upper=1).mean()\n",
    "        X_g = group.apply(applyFunc).add_suffix('_pct')\n",
    "        X = group.tail(1)\n",
    "        X = pd.concat([X_g, X], axis=1)\n",
    "        return X\n",
    "    \n",
    "def amex_metric(y, y_pred, **kwargs):\n",
    "    y_true_pd = pd.DataFrame(y, columns=['target'])\n",
    "    y_pred_pd = pd.DataFrame(y_pred, columns=['prediction'])\n",
    "    \n",
    "    def top_four_percent_captured(y_true: pd.DataFrame, y_pred: pd.DataFrame) -> float:\n",
    "        df = (pd.concat([y_true, y_pred], axis='columns')\n",
    "              .sort_values('prediction', ascending=False))\n",
    "        df['weight'] = df['target'].apply(lambda x: 20 if x==0 else 1)\n",
    "        four_pct_cutoff = int(0.04 * df['weight'].sum())\n",
    "        df['weight_cumsum'] = df['weight'].cumsum()\n",
    "        df_cutoff = df.loc[df['weight_cumsum'] <= four_pct_cutoff]\n",
    "        return (df_cutoff['target'] == 1).sum() / (df['target'] == 1).sum()\n",
    "        \n",
    "    def weighted_gini(y_true: pd.DataFrame, y_pred: pd.DataFrame) -> float:\n",
    "        df = (pd.concat([y_true, y_pred], axis='columns')\n",
    "              .sort_values('prediction', ascending=False))\n",
    "        df['weight'] = df['target'].apply(lambda x: 20 if x==0 else 1)\n",
    "        df['random'] = (df['weight'] / df['weight'].sum()).cumsum()\n",
    "        total_pos = (df['target'] * df['weight']).sum()\n",
    "        df['cum_pos_found'] = (df['target'] * df['weight']).cumsum()\n",
    "        df['lorentz'] = df['cum_pos_found'] / total_pos\n",
    "        df['gini'] = (df['lorentz'] - df['random']) * df['weight']\n",
    "        return df['gini'].sum()\n",
    "\n",
    "    def normalized_weighted_gini(y_true: pd.DataFrame, y_pred: pd.DataFrame) -> float:\n",
    "        y_true_pred = y_true.rename(columns={'target': 'prediction'})\n",
    "        return weighted_gini(y_true, y_pred) / weighted_gini(y_true, y_true_pred)\n",
    "\n",
    "    g = normalized_weighted_gini(y_true_pd, y_pred_pd)\n",
    "    d = top_four_percent_captured(y_true_pd, y_pred_pd)\n",
    "\n",
    "    return 0.5 * (g + d)\n",
    "\n",
    "amex_scorer = make_scorer(amex_metric)"
   ]
  },
  {
   "cell_type": "code",
   "execution_count": 4,
   "id": "e3fa847f-48ed-4661-abe7-f37e7e41ad8f",
   "metadata": {
    "execution": {
     "iopub.execute_input": "2022-08-07T20:12:10.316643Z",
     "iopub.status.busy": "2022-08-07T20:12:10.316257Z",
     "iopub.status.idle": "2022-08-07T20:12:10.319528Z",
     "shell.execute_reply": "2022-08-07T20:12:10.318958Z",
     "shell.execute_reply.started": "2022-08-07T20:12:10.316618Z"
    },
    "tags": []
   },
   "outputs": [],
   "source": [
    "# train_data = pd.read_feather(path / f'data/train_data.ftr')\n",
    "# train_labels = pd.read_feather(path / f'data/train_labels.ftr')\n",
    "# train_data = train_data.set_index(\"customer_ID\")\n",
    "# train_labels = train_labels.set_index(\"customer_ID\")\n",
    "# joined = train_data.join(train_labels)\n"
   ]
  },
  {
   "cell_type": "code",
   "execution_count": 5,
   "id": "42d68335-28d8-499f-b466-fefc311401ed",
   "metadata": {
    "execution": {
     "iopub.execute_input": "2022-08-07T20:12:10.468791Z",
     "iopub.status.busy": "2022-08-07T20:12:10.468404Z",
     "iopub.status.idle": "2022-08-07T20:12:10.471663Z",
     "shell.execute_reply": "2022-08-07T20:12:10.471098Z",
     "shell.execute_reply.started": "2022-08-07T20:12:10.468767Z"
    },
    "tags": []
   },
   "outputs": [],
   "source": [
    "# categorical_cols = ['B_30', 'B_38', 'D_114', 'D_116', 'D_117', 'D_120', 'D_126', 'D_63', 'D_64', 'D_66', 'D_68']\n",
    "# numerical_cols = set(joined.select_dtypes(include=(np.number)).columns) - set('target')\n",
    "# non_numeric_cols = set(joined.columns).difference(numerical_cols)\n",
    "# cols_with_null = set(joined.columns[joined.isna().any()].tolist())"
   ]
  },
  {
   "cell_type": "code",
   "execution_count": 6,
   "id": "ac0dd1ac-1998-4cba-8009-77b4df9c3670",
   "metadata": {
    "execution": {
     "iopub.execute_input": "2022-08-07T20:12:10.636841Z",
     "iopub.status.busy": "2022-08-07T20:12:10.636461Z",
     "iopub.status.idle": "2022-08-07T20:12:10.639604Z",
     "shell.execute_reply": "2022-08-07T20:12:10.639060Z",
     "shell.execute_reply.started": "2022-08-07T20:12:10.636817Z"
    },
    "tags": []
   },
   "outputs": [],
   "source": [
    "# non_leaking_pipe = Pipeline([\n",
    "#     ('date', DateTransformer()),\n",
    "#     ('coalesce', CoalesceTransformer()),\n",
    "# ])"
   ]
  },
  {
   "cell_type": "code",
   "execution_count": 7,
   "id": "7356cce1-8be8-495a-947d-f0bb8d4777dd",
   "metadata": {
    "execution": {
     "iopub.execute_input": "2022-08-07T20:12:10.766879Z",
     "iopub.status.busy": "2022-08-07T20:12:10.766500Z",
     "iopub.status.idle": "2022-08-07T20:12:10.769816Z",
     "shell.execute_reply": "2022-08-07T20:12:10.769271Z",
     "shell.execute_reply.started": "2022-08-07T20:12:10.766853Z"
    },
    "tags": []
   },
   "outputs": [],
   "source": [
    "# joined_processed = non_leaking_pipe.fit_transform(joined)"
   ]
  },
  {
   "cell_type": "code",
   "execution_count": 8,
   "id": "a3263a57-090b-4346-bcbe-7c08c1f566e5",
   "metadata": {
    "execution": {
     "iopub.execute_input": "2022-08-07T20:12:10.936560Z",
     "iopub.status.busy": "2022-08-07T20:12:10.936183Z",
     "iopub.status.idle": "2022-08-07T20:12:10.939366Z",
     "shell.execute_reply": "2022-08-07T20:12:10.938800Z",
     "shell.execute_reply.started": "2022-08-07T20:12:10.936535Z"
    },
    "tags": []
   },
   "outputs": [],
   "source": [
    "# joined_processed = joined_processed.reset_index()"
   ]
  },
  {
   "cell_type": "code",
   "execution_count": 9,
   "id": "eb3ba8f1-ff26-40db-88d1-972831d1d06d",
   "metadata": {
    "execution": {
     "iopub.execute_input": "2022-08-07T20:12:11.317284Z",
     "iopub.status.busy": "2022-08-07T20:12:11.316887Z",
     "iopub.status.idle": "2022-08-07T20:12:11.320185Z",
     "shell.execute_reply": "2022-08-07T20:12:11.319579Z",
     "shell.execute_reply.started": "2022-08-07T20:12:11.317260Z"
    },
    "tags": []
   },
   "outputs": [],
   "source": [
    "# joined_processed.to_feather(path / f'train_slopes.ftr')"
   ]
  },
  {
   "cell_type": "code",
   "execution_count": 10,
   "id": "50eb9bf1-5497-4c33-9ed3-26696eac9e20",
   "metadata": {
    "execution": {
     "iopub.execute_input": "2022-08-07T20:12:11.530655Z",
     "iopub.status.busy": "2022-08-07T20:12:11.530271Z",
     "iopub.status.idle": "2022-08-07T20:12:20.150817Z",
     "shell.execute_reply": "2022-08-07T20:12:20.150147Z",
     "shell.execute_reply.started": "2022-08-07T20:12:11.530631Z"
    },
    "tags": []
   },
   "outputs": [],
   "source": [
    "joined_processed = pd.read_feather(path / f'train_slopes.ftr')\n",
    "joined_processed = joined_processed.set_index('customer_ID')"
   ]
  },
  {
   "cell_type": "code",
   "execution_count": 11,
   "id": "01102ce5-5b05-4f2c-98ec-ff2e1cd7b90c",
   "metadata": {
    "execution": {
     "iopub.execute_input": "2022-08-07T20:12:20.152304Z",
     "iopub.status.busy": "2022-08-07T20:12:20.152006Z",
     "iopub.status.idle": "2022-08-07T20:12:21.414386Z",
     "shell.execute_reply": "2022-08-07T20:12:21.413732Z",
     "shell.execute_reply.started": "2022-08-07T20:12:20.152283Z"
    },
    "tags": []
   },
   "outputs": [],
   "source": [
    "y = joined_processed.target\n",
    "X = joined_processed.drop(\"target\", axis=1)"
   ]
  },
  {
   "cell_type": "code",
   "execution_count": 12,
   "id": "9274cc73-abc2-4a42-9c4a-68e79ea1868d",
   "metadata": {
    "execution": {
     "iopub.execute_input": "2022-08-07T20:12:21.415423Z",
     "iopub.status.busy": "2022-08-07T20:12:21.415210Z",
     "iopub.status.idle": "2022-08-07T20:12:22.329275Z",
     "shell.execute_reply": "2022-08-07T20:12:22.328635Z",
     "shell.execute_reply.started": "2022-08-07T20:12:21.415404Z"
    },
    "tags": []
   },
   "outputs": [],
   "source": [
    "# Fix all inf values\n",
    "X.replace([np.inf, -np.inf], 2, inplace=True)"
   ]
  },
  {
   "cell_type": "code",
   "execution_count": 13,
   "id": "415dbb95-9660-4c3d-9b00-edf73e60e35e",
   "metadata": {
    "execution": {
     "iopub.execute_input": "2022-08-07T20:12:22.331234Z",
     "iopub.status.busy": "2022-08-07T20:12:22.330780Z",
     "iopub.status.idle": "2022-08-07T20:12:22.601593Z",
     "shell.execute_reply": "2022-08-07T20:12:22.600926Z",
     "shell.execute_reply.started": "2022-08-07T20:12:22.331210Z"
    },
    "tags": []
   },
   "outputs": [],
   "source": [
    "categorical_cols = ['B_30', 'B_38', 'D_114', 'D_116', 'D_117', 'D_120', 'D_126', 'D_63', 'D_64', 'D_66', 'D_68']\n",
    "numerical_cols = set(X.select_dtypes(include=(np.number)).columns)\n",
    "non_numeric_cols = set(X.columns).difference(numerical_cols)\n",
    "cols_with_null = set(X.columns[X.isna().any()].tolist())"
   ]
  },
  {
   "cell_type": "code",
   "execution_count": 14,
   "id": "8d3233ff-6dfe-41ab-9509-399d4e921e27",
   "metadata": {
    "execution": {
     "iopub.execute_input": "2022-08-07T20:12:22.603029Z",
     "iopub.status.busy": "2022-08-07T20:12:22.602414Z",
     "iopub.status.idle": "2022-08-07T20:12:22.607243Z",
     "shell.execute_reply": "2022-08-07T20:12:22.606470Z",
     "shell.execute_reply.started": "2022-08-07T20:12:22.603006Z"
    },
    "tags": []
   },
   "outputs": [],
   "source": [
    "handle_null_numerical = FeatureUnion([\n",
    "         ('features', SimpleImputer()),\n",
    "         ('indicators', MissingIndicator())\n",
    "])\n",
    "\n",
    "preprocessor = ColumnTransformer([\n",
    "    ('categorical_encoder', OneHotEncoder(handle_unknown='ignore'), categorical_cols),\n",
    "    ('numerical_imputer', handle_null_numerical, list(cols_with_null - non_numeric_cols)),\n",
    "    ('scaler', StandardScaler(), list(numerical_cols))\n",
    "], \n",
    "remainder=\"passthrough\")"
   ]
  },
  {
   "cell_type": "code",
   "execution_count": 15,
   "id": "b6e06bcf-ad61-46a9-aa53-4e7107fd1873",
   "metadata": {
    "execution": {
     "iopub.execute_input": "2022-08-07T20:12:22.608278Z",
     "iopub.status.busy": "2022-08-07T20:12:22.608079Z",
     "iopub.status.idle": "2022-08-07T20:12:22.613394Z",
     "shell.execute_reply": "2022-08-07T20:12:22.612675Z",
     "shell.execute_reply.started": "2022-08-07T20:12:22.608259Z"
    },
    "tags": []
   },
   "outputs": [],
   "source": [
    "pipe = Pipeline([\n",
    "    ('preprocessor', preprocessor),\n",
    "    ('impute', SimpleImputer(strategy='median')),\n",
    "    ('skb', SelectPercentile(score_func=f_regression, percentile=40)),\n",
    "    ('feature_selection_sfm', SelectFromModel(GradientBoostingClassifier(n_estimators=30,verbose=True))),\n",
    "    ('xgb', GradientBoostingClassifier(verbose=True))\n",
    "])"
   ]
  },
  {
   "cell_type": "code",
   "execution_count": 16,
   "id": "2b437055-a412-4dff-ab43-a8d212da8aa6",
   "metadata": {
    "execution": {
     "iopub.execute_input": "2022-08-07T20:12:22.614525Z",
     "iopub.status.busy": "2022-08-07T20:12:22.614141Z",
     "iopub.status.idle": "2022-08-07T20:40:57.457634Z",
     "shell.execute_reply": "2022-08-07T20:40:57.456925Z",
     "shell.execute_reply.started": "2022-08-07T20:12:22.614492Z"
    },
    "tags": []
   },
   "outputs": [
    {
     "name": "stderr",
     "output_type": "stream",
     "text": [
      "[Parallel(n_jobs=5)]: Using backend LokyBackend with 5 concurrent workers.\n",
      "/srv/conda/envs/saturn/lib/python3.9/site-packages/sklearn/feature_selection/_univariate_selection.py:289: RuntimeWarning: divide by zero encountered in true_divide\n",
      "  correlation_coefficient /= X_norms\n",
      "/srv/conda/envs/saturn/lib/python3.9/site-packages/sklearn/feature_selection/_univariate_selection.py:289: RuntimeWarning: invalid value encountered in true_divide\n",
      "  correlation_coefficient /= X_norms\n",
      "/srv/conda/envs/saturn/lib/python3.9/site-packages/sklearn/feature_selection/_univariate_selection.py:358: RuntimeWarning: invalid value encountered in true_divide\n",
      "  f_statistic = corr_coef_squared / (1 - corr_coef_squared) * deg_of_freedom\n",
      "/srv/conda/envs/saturn/lib/python3.9/site-packages/sklearn/feature_selection/_univariate_selection.py:289: RuntimeWarning: divide by zero encountered in true_divide\n",
      "  correlation_coefficient /= X_norms\n",
      "/srv/conda/envs/saturn/lib/python3.9/site-packages/sklearn/feature_selection/_univariate_selection.py:289: RuntimeWarning: invalid value encountered in true_divide\n",
      "  correlation_coefficient /= X_norms\n",
      "/srv/conda/envs/saturn/lib/python3.9/site-packages/sklearn/feature_selection/_univariate_selection.py:358: RuntimeWarning: invalid value encountered in true_divide\n",
      "  f_statistic = corr_coef_squared / (1 - corr_coef_squared) * deg_of_freedom\n",
      "/srv/conda/envs/saturn/lib/python3.9/site-packages/sklearn/feature_selection/_univariate_selection.py:289: RuntimeWarning: divide by zero encountered in true_divide\n",
      "  correlation_coefficient /= X_norms\n",
      "/srv/conda/envs/saturn/lib/python3.9/site-packages/sklearn/feature_selection/_univariate_selection.py:289: RuntimeWarning: invalid value encountered in true_divide\n",
      "  correlation_coefficient /= X_norms\n",
      "/srv/conda/envs/saturn/lib/python3.9/site-packages/sklearn/feature_selection/_univariate_selection.py:358: RuntimeWarning: invalid value encountered in true_divide\n",
      "  f_statistic = corr_coef_squared / (1 - corr_coef_squared) * deg_of_freedom\n",
      "/srv/conda/envs/saturn/lib/python3.9/site-packages/sklearn/feature_selection/_univariate_selection.py:289: RuntimeWarning: divide by zero encountered in true_divide\n",
      "  correlation_coefficient /= X_norms\n",
      "/srv/conda/envs/saturn/lib/python3.9/site-packages/sklearn/feature_selection/_univariate_selection.py:289: RuntimeWarning: invalid value encountered in true_divide\n",
      "  correlation_coefficient /= X_norms\n",
      "/srv/conda/envs/saturn/lib/python3.9/site-packages/sklearn/feature_selection/_univariate_selection.py:358: RuntimeWarning: invalid value encountered in true_divide\n",
      "  f_statistic = corr_coef_squared / (1 - corr_coef_squared) * deg_of_freedom\n",
      "/srv/conda/envs/saturn/lib/python3.9/site-packages/sklearn/feature_selection/_univariate_selection.py:289: RuntimeWarning: divide by zero encountered in true_divide\n",
      "  correlation_coefficient /= X_norms\n",
      "/srv/conda/envs/saturn/lib/python3.9/site-packages/sklearn/feature_selection/_univariate_selection.py:289: RuntimeWarning: invalid value encountered in true_divide\n",
      "  correlation_coefficient /= X_norms\n",
      "/srv/conda/envs/saturn/lib/python3.9/site-packages/sklearn/feature_selection/_univariate_selection.py:358: RuntimeWarning: invalid value encountered in true_divide\n",
      "  f_statistic = corr_coef_squared / (1 - corr_coef_squared) * deg_of_freedom\n",
      "[Parallel(n_jobs=5)]: Done   2 out of   5 | elapsed: 21.6min remaining: 32.4min\n",
      "[Parallel(n_jobs=5)]: Done   3 out of   5 | elapsed: 22.6min remaining: 15.1min\n"
     ]
    },
    {
     "name": "stdout",
     "output_type": "stream",
     "text": [
      "[CV] START .....................................................................\n",
      "      Iter       Train Loss   Remaining Time \n",
      "         1           1.0475           14.87m\n",
      "         2           0.9726           14.32m\n",
      "         3           0.9126           13.74m\n",
      "         4           0.8633           13.24m\n",
      "         5           0.8217           12.72m\n",
      "         6           0.7859           12.24m\n",
      "         7           0.7557           11.72m\n",
      "         8           0.7296           11.21m\n",
      "         9           0.7073           10.70m\n",
      "        10           0.6872           10.20m\n",
      "        20           0.5750            5.09m\n",
      "        30           0.5292            0.00s\n",
      "      Iter       Train Loss   Remaining Time \n",
      "         1           1.0475            4.97m\n",
      "         2           0.9726            4.93m\n",
      "         3           0.9126            4.90m\n",
      "         4           0.8633            4.87m\n",
      "         5           0.8217            4.81m\n",
      "         6           0.7859            4.75m\n",
      "         7           0.7556            4.73m\n",
      "         8           0.7294            4.69m\n",
      "         9           0.7069            4.63m\n",
      "        10           0.6869            4.59m\n",
      "        20           0.5751            4.06m\n",
      "        30           0.5327            3.55m\n",
      "        40           0.5135            3.04m\n",
      "        50           0.5037            2.53m\n",
      "        60           0.4977            2.02m\n",
      "        70           0.4940            1.52m\n",
      "        80           0.4916            1.01m\n",
      "        90           0.4895           30.34s\n",
      "       100           0.4880            0.00s\n",
      "[CV] END  accuracy: (train=0.891, test=0.889) amex: (train=-0.029, test=-0.025) balanced_accuracy: (train=0.859, test=0.855) f1: (train=0.790, test=0.786) precision: (train=0.788, test=0.787) recall: (train=0.792, test=0.785) total time=21.3min\n",
      "[CV] START .....................................................................\n",
      "      Iter       Train Loss   Remaining Time \n",
      "         1           1.0477           16.62m\n",
      "         2           0.9730           15.20m\n",
      "         3           0.9132           14.35m\n",
      "         4           0.8638           13.68m\n",
      "         5           0.8222           13.08m\n",
      "         6           0.7867           12.52m\n",
      "         7           0.7567           11.95m\n",
      "         8           0.7304           11.41m\n",
      "         9           0.7079           10.87m\n",
      "        10           0.6881           10.34m\n",
      "        20           0.5761            5.14m\n",
      "        30           0.5310            0.00s\n",
      "      Iter       Train Loss   Remaining Time \n",
      "         1           1.0477            4.97m\n",
      "         2           0.9730            4.91m\n",
      "         3           0.9132            4.87m\n",
      "         4           0.8638            4.82m\n",
      "         5           0.8222            4.75m\n",
      "         6           0.7867            4.73m\n",
      "         7           0.7567            4.69m\n",
      "         8           0.7304            4.63m\n",
      "         9           0.7082            4.59m\n",
      "        10           0.6884            4.54m\n",
      "        20           0.5764            4.01m\n",
      "        30           0.5339            3.51m\n",
      "        40           0.5151            3.00m\n",
      "        50           0.5049            2.50m\n",
      "        60           0.4992            2.00m\n",
      "        70           0.4951            1.50m\n",
      "        80           0.4925           59.95s\n",
      "        90           0.4902           29.96s\n",
      "       100           0.4888            0.00s\n",
      "[CV] END  accuracy: (train=0.891, test=0.891) amex: (train=-0.030, test=-0.016) balanced_accuracy: (train=0.859, test=0.859) f1: (train=0.790, test=0.789) precision: (train=0.788, test=0.787) recall: (train=0.792, test=0.792) total time=21.4min\n",
      "[CV] START .....................................................................\n",
      "      Iter       Train Loss   Remaining Time \n",
      "         1           1.0474           16.39m\n",
      "         2           0.9730           15.11m\n",
      "         3           0.9130           14.33m\n",
      "         4           0.8635           13.68m\n",
      "         5           0.8219           13.09m\n",
      "         6           0.7870           12.53m\n",
      "         7           0.7567           11.98m\n",
      "         8           0.7308           11.44m\n",
      "         9           0.7079           10.90m\n",
      "        10           0.6879           10.37m\n",
      "        20           0.5753            5.16m\n",
      "        30           0.5290            0.00s\n",
      "      Iter       Train Loss   Remaining Time \n",
      "         1           1.0474            5.82m\n",
      "         2           0.9730            5.71m\n",
      "         3           0.9130            5.68m\n",
      "         4           0.8635            5.65m\n",
      "         5           0.8219            5.58m\n",
      "         6           0.7870            5.55m\n",
      "         7           0.7567            5.48m\n",
      "         8           0.7308            5.42m\n",
      "         9           0.7079            5.36m\n",
      "        10           0.6879            5.30m\n",
      "        20           0.5758            4.70m\n",
      "        30           0.5338            4.12m\n",
      "        40           0.5138            3.53m\n",
      "        50           0.5033            2.93m\n",
      "        60           0.4975            2.35m\n",
      "        70           0.4936            1.76m\n",
      "        80           0.4910            1.17m\n",
      "        90           0.4889           35.13s\n",
      "       100           0.4872            0.00s\n",
      "[CV] END  accuracy: (train=0.891, test=0.889) amex: (train=-0.029, test=-0.026) balanced_accuracy: (train=0.859, test=0.858) f1: (train=0.790, test=0.788) precision: (train=0.789, test=0.784) recall: (train=0.792, test=0.792) total time=22.3min\n"
     ]
    },
    {
     "name": "stderr",
     "output_type": "stream",
     "text": [
      "[Parallel(n_jobs=5)]: Done   5 out of   5 | elapsed: 28.6min remaining:    0.0s\n",
      "[Parallel(n_jobs=5)]: Done   5 out of   5 | elapsed: 28.6min finished\n"
     ]
    }
   ],
   "source": [
    "cv = StratifiedKFold(n_splits=5, random_state=None, shuffle=False)\n",
    "scorer = {'precision': 'precision', 'recall':'recall', 'f1':'f1', 'accuracy':'accuracy', 'balanced_accuracy': 'balanced_accuracy', \"amex\": amex_scorer}\n",
    "scores = cross_validate(pipe, X, y, cv=cv, n_jobs=5,\n",
    "                        scoring=scorer,\n",
    "                        return_train_score=True, verbose=10)"
   ]
  },
  {
   "cell_type": "code",
   "execution_count": 17,
   "id": "1f405db9-d684-4eea-bcd9-c326f3d5453c",
   "metadata": {
    "execution": {
     "iopub.execute_input": "2022-08-07T20:40:57.458968Z",
     "iopub.status.busy": "2022-08-07T20:40:57.458630Z",
     "iopub.status.idle": "2022-08-07T20:40:57.467578Z",
     "shell.execute_reply": "2022-08-07T20:40:57.466968Z",
     "shell.execute_reply.started": "2022-08-07T20:40:57.458938Z"
    },
    "tags": []
   },
   "outputs": [
    {
     "data": {
      "text/plain": [
       "{'fit_time': array([1272.69100165, 1337.79889655, 1696.9315536 , 1278.72968197,\n",
       "        1648.73155808]),\n",
       " 'score_time': array([2.75251579, 2.73126078, 2.72125459, 2.78108144, 2.69030857]),\n",
       " 'test_precision': array([0.78681124, 0.78354636, 0.78987001, 0.78654971, 0.79055217]),\n",
       " 'train_precision': array([0.78820168, 0.78851711, 0.79230559, 0.78817393, 0.79151943]),\n",
       " 'test_recall': array([0.78469242, 0.79188757, 0.79003619, 0.79234168, 0.79221544]),\n",
       " 'train_recall': array([0.7921567 , 0.79228293, 0.79355578, 0.79166448, 0.79172759]),\n",
       " 'test_f1': array([0.7857504 , 0.78769488, 0.78995309, 0.78943507, 0.79138293]),\n",
       " 'train_f1': array([0.79017424, 0.79039553, 0.7929302 , 0.78991535, 0.7916235 ]),\n",
       " 'test_accuracy': array([0.88919517, 0.88946755, 0.89121079, 0.89055588, 0.89185243]),\n",
       " 'train_accuracy': array([0.89106583, 0.89119386, 0.89268107, 0.89096263, 0.89207395]),\n",
       " 'test_balanced_accuracy': array([0.85520108, 0.8577254 , 0.85829933, 0.8586067 , 0.85944042]),\n",
       " 'train_balanced_accuracy': array([0.85889095, 0.85901839, 0.86043587, 0.85866138, 0.85943173]),\n",
       " 'test_amex': array([-0.02546706, -0.02561528, -0.02006512, -0.01576118, -0.02524316]),\n",
       " 'train_amex': array([-0.02912676, -0.02911906, -0.02947428, -0.02974536, -0.02914291])}"
      ]
     },
     "execution_count": 17,
     "metadata": {},
     "output_type": "execute_result"
    },
    {
     "name": "stdout",
     "output_type": "stream",
     "text": [
      "[CV] START .....................................................................\n",
      "      Iter       Train Loss   Remaining Time \n",
      "         1           1.0477           21.08m\n",
      "         2           0.9732           20.33m\n",
      "         3           0.9132           19.54m\n",
      "         4           0.8640           18.87m\n",
      "         5           0.8228           18.16m\n",
      "         6           0.7873           17.41m\n",
      "         7           0.7571           16.68m\n",
      "         8           0.7310           15.96m\n",
      "         9           0.7083           15.22m\n",
      "        10           0.6881           14.50m\n",
      "        20           0.5766            7.25m\n",
      "        30           0.5304            0.00s\n",
      "      Iter       Train Loss   Remaining Time \n",
      "         1           1.0477            5.09m\n",
      "         2           0.9732            5.00m\n",
      "         3           0.9132            4.95m\n",
      "         4           0.8640            4.89m\n",
      "         5           0.8228            4.83m\n",
      "         6           0.7873            4.75m\n",
      "         7           0.7570            4.70m\n",
      "         8           0.7313            4.65m\n",
      "         9           0.7086            4.59m\n",
      "        10           0.6882            4.54m\n",
      "        20           0.5760            4.02m\n",
      "        30           0.5330            3.52m\n",
      "        40           0.5124            3.02m\n",
      "        50           0.5009            2.52m\n",
      "        60           0.4947            2.02m\n",
      "        70           0.4907            1.51m\n",
      "        80           0.4879            1.01m\n",
      "        90           0.4856           30.28s\n",
      "       100           0.4837            0.00s\n",
      "[CV] END  accuracy: (train=0.892, test=0.892) amex: (train=-0.029, test=-0.025) balanced_accuracy: (train=0.859, test=0.859) f1: (train=0.792, test=0.791) precision: (train=0.792, test=0.791) recall: (train=0.792, test=0.792) total time=27.5min\n",
      "[CV] START .....................................................................\n",
      "      Iter       Train Loss   Remaining Time \n",
      "         1           1.0474           21.03m\n",
      "         2           0.9729           20.26m\n",
      "         3           0.9127           19.51m\n",
      "         4           0.8636           18.90m\n",
      "         5           0.8221           18.15m\n",
      "         6           0.7874           17.40m\n",
      "         7           0.7568           16.67m\n",
      "         8           0.7310           15.96m\n",
      "         9           0.7082           15.22m\n",
      "        10           0.6884           14.51m\n",
      "        20           0.5761            7.26m\n",
      "        30           0.5309            0.00s\n",
      "      Iter       Train Loss   Remaining Time \n",
      "         1           1.0474            5.81m\n",
      "         2           0.9729            5.78m\n",
      "         3           0.9127            5.70m\n",
      "         4           0.8636            5.61m\n",
      "         5           0.8221            5.54m\n",
      "         6           0.7874            5.47m\n",
      "         7           0.7568            5.40m\n",
      "         8           0.7306            5.35m\n",
      "         9           0.7082            5.27m\n",
      "        10           0.6881            5.21m\n",
      "        20           0.5764            4.61m\n",
      "        30           0.5321            4.04m\n",
      "        40           0.5111            3.47m\n",
      "        50           0.5008            2.89m\n",
      "        60           0.4944            2.32m\n",
      "        70           0.4902            1.74m\n",
      "        80           0.4873            1.16m\n",
      "        90           0.4850           34.83s\n",
      "       100           0.4833            0.00s\n",
      "[CV] END  accuracy: (train=0.893, test=0.891) amex: (train=-0.029, test=-0.020) balanced_accuracy: (train=0.860, test=0.858) f1: (train=0.793, test=0.790) precision: (train=0.792, test=0.790) recall: (train=0.794, test=0.790) total time=28.3min\n"
     ]
    }
   ],
   "source": [
    "scores"
   ]
  },
  {
   "cell_type": "code",
   "execution_count": null,
   "id": "8b3580f8-242a-4f04-8455-b8d7f0dd64fb",
   "metadata": {},
   "outputs": [],
   "source": []
  }
 ],
 "metadata": {
  "kernelspec": {
   "display_name": "saturn (Python 3)",
   "language": "python",
   "name": "python3"
  },
  "language_info": {
   "codemirror_mode": {
    "name": "ipython",
    "version": 3
   },
   "file_extension": ".py",
   "mimetype": "text/x-python",
   "name": "python",
   "nbconvert_exporter": "python",
   "pygments_lexer": "ipython3",
   "version": "3.9.10"
  }
 },
 "nbformat": 4,
 "nbformat_minor": 5
}
