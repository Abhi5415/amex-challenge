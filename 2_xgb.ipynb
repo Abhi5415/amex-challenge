{
 "cells": [
  {
   "cell_type": "code",
   "execution_count": 1,
   "id": "49217c55-1410-4049-a7b1-553db1ee8a22",
   "metadata": {
    "execution": {
     "iopub.execute_input": "2022-08-04T23:21:29.411717Z",
     "iopub.status.busy": "2022-08-04T23:21:29.411254Z",
     "iopub.status.idle": "2022-08-04T23:21:29.421303Z",
     "shell.execute_reply": "2022-08-04T23:21:29.420351Z",
     "shell.execute_reply.started": "2022-08-04T23:21:29.411642Z"
    }
   },
   "outputs": [],
   "source": [
    "selected_features = ['P_2',\n",
    " 'D_39',\n",
    " 'B_2',\n",
    " 'R_1',\n",
    " 'D_41',\n",
    " 'B_3',\n",
    " 'D_44',\n",
    " 'B_4',\n",
    " 'D_45',\n",
    " 'R_2',\n",
    " 'D_48',\n",
    " 'B_8',\n",
    " 'D_51',\n",
    " 'B_11',\n",
    " 'S_6',\n",
    " 'R_4',\n",
    " 'S_8',\n",
    " 'D_55',\n",
    " 'D_58',\n",
    " 'B_16',\n",
    " 'B_18',\n",
    " 'B_19',\n",
    " 'B_20',\n",
    " 'R_6',\n",
    " 'S_13',\n",
    " 'B_22',\n",
    " 'D_72',\n",
    " 'B_23',\n",
    " 'P_4',\n",
    " 'D_74',\n",
    " 'D_75',\n",
    " 'D_78',\n",
    " 'R_10',\n",
    " 'D_81',\n",
    " 'R_15',\n",
    " 'R_19',\n",
    " 'B_32',\n",
    " 'S_20',\n",
    " 'R_21',\n",
    " 'B_33',\n",
    " 'D_92',\n",
    " 'R_24',\n",
    " 'D_112',\n",
    " 'D_127',\n",
    " 'D_128',\n",
    " 'D_129',\n",
    " 'D_130',\n",
    " 'D_131',\n",
    " 'D_133',\n",
    " 'D_139',\n",
    " 'D_140',\n",
    " 'D_141',\n",
    " 'D_143',\n",
    " 'S_7_null',\n",
    " 'D_56_null',\n",
    " 'D_46_null',\n",
    " 'B_17_null',\n",
    " 'D_48_null',\n",
    " 'D_53_null',\n",
    " 'D_77_null',\n",
    " 'S_3_null',\n",
    " 'D_62_null',\n",
    " 'D_43_null',\n",
    " 'D_61_null',\n",
    " 'B_38_2.0',\n",
    " 'B_38_3.0',\n",
    " 'B_38_1.0',\n",
    " 'B_38_5.0',\n",
    " 'B_38_7.0',\n",
    " 'B_38_4.0',\n",
    " 'B_38_6.0',\n",
    " 'D_120_0.0',\n",
    " 'D_120_1.0',\n",
    " 'D_64_O',\n",
    " 'D_64_U',\n",
    " 'D_114_1.0',\n",
    " 'D_114_0.0',\n",
    " 'B_30_0.0',\n",
    " 'B_30_1.0',\n",
    " 'D_68_6.0']"
   ]
  },
  {
   "cell_type": "code",
   "execution_count": 2,
   "id": "b5ca3eab-3cdb-474e-88b4-885a7cfc9d91",
   "metadata": {
    "execution": {
     "iopub.execute_input": "2022-08-04T23:22:50.675893Z",
     "iopub.status.busy": "2022-08-04T23:22:50.675487Z",
     "iopub.status.idle": "2022-08-04T23:22:51.942232Z",
     "shell.execute_reply": "2022-08-04T23:22:51.941500Z",
     "shell.execute_reply.started": "2022-08-04T23:22:50.675867Z"
    }
   },
   "outputs": [],
   "source": [
    "import numpy as np\n",
    "import pandas as pd\n",
    "from pathlib import Path\n",
    "import glob \n",
    "import os\n",
    "import matplotlib.pyplot as plt \n",
    "import matplotlib\n",
    "from datetime import datetime\n",
    "from sklearn.metrics import mean_absolute_error\n",
    "from sklearn.ensemble import GradientBoostingClassifier\n",
    "from sklearn.model_selection import train_test_split\n",
    "import gc\n",
    "from sklearn import preprocessing\n",
    "from scipy.stats import linregress \n",
    "import pickle\n",
    "from sklearn.model_selection import StratifiedKFold"
   ]
  },
  {
   "cell_type": "code",
   "execution_count": 3,
   "id": "f8a40c06-f191-47bd-ae1b-5a171107d918",
   "metadata": {
    "execution": {
     "iopub.execute_input": "2022-08-04T23:24:35.407845Z",
     "iopub.status.busy": "2022-08-04T23:24:35.407332Z",
     "iopub.status.idle": "2022-08-04T23:24:35.411447Z",
     "shell.execute_reply": "2022-08-04T23:24:35.410801Z",
     "shell.execute_reply.started": "2022-08-04T23:24:35.407813Z"
    }
   },
   "outputs": [],
   "source": [
    "path = Path('/home/jovyan/workspace/amex-challenge/archive')"
   ]
  },
  {
   "cell_type": "code",
   "execution_count": 7,
   "id": "f59aa100-8987-44f6-9c4c-3f3d2f0b5fea",
   "metadata": {
    "execution": {
     "iopub.execute_input": "2022-08-04T23:25:57.574673Z",
     "iopub.status.busy": "2022-08-04T23:25:57.574267Z",
     "iopub.status.idle": "2022-08-04T23:26:00.275826Z",
     "shell.execute_reply": "2022-08-04T23:26:00.275064Z",
     "shell.execute_reply.started": "2022-08-04T23:25:57.574650Z"
    },
    "tags": []
   },
   "outputs": [],
   "source": [
    "train_data = pd.read_feather(path / f'data/processed_train_data_v3.ftr')\n",
    "train_labels = pd.read_feather(path / f'data/train_labels.ftr')\n",
    "train_data = train_data.set_index(\"customer_ID\")\n",
    "train_labels = train_labels.set_index(\"customer_ID\")\n",
    "joined = train_data.join(train_labels)\n",
    "y_train = joined.target\n",
    "X_train = joined.drop(\"target\", axis=1)"
   ]
  },
  {
   "cell_type": "code",
   "execution_count": 8,
   "id": "881bb505-c5c6-4177-9ece-377feb319b24",
   "metadata": {
    "execution": {
     "iopub.execute_input": "2022-08-04T23:26:00.277635Z",
     "iopub.status.busy": "2022-08-04T23:26:00.277253Z",
     "iopub.status.idle": "2022-08-04T23:26:00.374631Z",
     "shell.execute_reply": "2022-08-04T23:26:00.373691Z",
     "shell.execute_reply.started": "2022-08-04T23:26:00.277611Z"
    },
    "tags": []
   },
   "outputs": [],
   "source": [
    "X_train = X_train[selected_features]"
   ]
  },
  {
   "cell_type": "code",
   "execution_count": 10,
   "id": "f9ba9156-259c-470b-b068-6203d017213a",
   "metadata": {
    "execution": {
     "iopub.execute_input": "2022-08-04T23:26:25.634041Z",
     "iopub.status.busy": "2022-08-04T23:26:25.633596Z",
     "iopub.status.idle": "2022-08-04T23:46:08.081739Z",
     "shell.execute_reply": "2022-08-04T23:46:08.081055Z",
     "shell.execute_reply.started": "2022-08-04T23:26:25.634013Z"
    },
    "tags": []
   },
   "outputs": [
    {
     "name": "stdout",
     "output_type": "stream",
     "text": [
      "      Iter       Train Loss   Remaining Time \n",
      "         1           1.0477           19.66m\n",
      "         2           0.9733           19.51m\n",
      "         3           0.9134           19.27m\n",
      "         4           0.8646           19.06m\n",
      "         5           0.8228           18.88m\n",
      "         6           0.7881           18.67m\n",
      "         7           0.7580           18.44m\n",
      "         8           0.7323           18.23m\n",
      "         9           0.7099           18.00m\n",
      "        10           0.6896           17.78m\n",
      "        20           0.5805           15.74m\n",
      "        30           0.5380           13.79m\n",
      "        40           0.5172           11.83m\n",
      "        50           0.5059            9.86m\n",
      "        60           0.4989            7.89m\n",
      "        70           0.4941            5.91m\n",
      "        80           0.4904            3.94m\n",
      "        90           0.4875            1.97m\n",
      "       100           0.4850            0.00s\n"
     ]
    },
    {
     "data": {
      "text/plain": [
       "GradientBoostingClassifier(verbose=True)"
      ]
     },
     "execution_count": 10,
     "metadata": {},
     "output_type": "execute_result"
    }
   ],
   "source": [
    "model = GradientBoostingClassifier(verbose=True)\n",
    "model.fit(X_train, y_train)"
   ]
  },
  {
   "cell_type": "code",
   "execution_count": 16,
   "id": "82a27010-7c6c-4f9a-adb5-e04788910365",
   "metadata": {
    "execution": {
     "iopub.execute_input": "2022-08-05T00:05:59.369645Z",
     "iopub.status.busy": "2022-08-05T00:05:59.369257Z",
     "iopub.status.idle": "2022-08-05T00:05:59.377358Z",
     "shell.execute_reply": "2022-08-05T00:05:59.376643Z",
     "shell.execute_reply.started": "2022-08-05T00:05:59.369617Z"
    },
    "tags": []
   },
   "outputs": [],
   "source": [
    "pickle.dump(model, open(path / 'models/xgb1.sav', 'wb'))"
   ]
  },
  {
   "cell_type": "markdown",
   "id": "d40a1021-a141-43c5-915f-0697bd568020",
   "metadata": {},
   "source": [
    "# For Reals!"
   ]
  },
  {
   "cell_type": "code",
   "execution_count": 17,
   "id": "fc50b250-2f5b-44e8-9764-ad2704e55ee5",
   "metadata": {
    "execution": {
     "iopub.execute_input": "2022-08-05T00:06:02.441590Z",
     "iopub.status.busy": "2022-08-05T00:06:02.441185Z",
     "iopub.status.idle": "2022-08-05T00:06:05.100064Z",
     "shell.execute_reply": "2022-08-05T00:06:05.099283Z",
     "shell.execute_reply.started": "2022-08-05T00:06:02.441560Z"
    },
    "tags": []
   },
   "outputs": [],
   "source": [
    "test_data = pd.read_feather(path / f'data/processed_test_data_v3.ftr')\n",
    "test_data = test_data.set_index(\"customer_ID\")"
   ]
  },
  {
   "cell_type": "code",
   "execution_count": 18,
   "id": "665ca256-9adc-4c9d-9137-2d855366b23e",
   "metadata": {
    "execution": {
     "iopub.execute_input": "2022-08-05T00:06:06.724221Z",
     "iopub.status.busy": "2022-08-05T00:06:06.723803Z",
     "iopub.status.idle": "2022-08-05T00:06:06.958993Z",
     "shell.execute_reply": "2022-08-05T00:06:06.958063Z",
     "shell.execute_reply.started": "2022-08-05T00:06:06.724193Z"
    },
    "tags": []
   },
   "outputs": [],
   "source": [
    "X_test = test_data[selected_features]"
   ]
  },
  {
   "cell_type": "code",
   "execution_count": 19,
   "id": "33b244cd-818c-4f53-84ad-7dc8fd032c03",
   "metadata": {
    "execution": {
     "iopub.execute_input": "2022-08-05T00:06:07.785150Z",
     "iopub.status.busy": "2022-08-05T00:06:07.784725Z",
     "iopub.status.idle": "2022-08-05T00:06:11.464427Z",
     "shell.execute_reply": "2022-08-05T00:06:11.463656Z",
     "shell.execute_reply.started": "2022-08-05T00:06:07.785122Z"
    },
    "tags": []
   },
   "outputs": [],
   "source": [
    "y_pred = model.predict(X_test)"
   ]
  },
  {
   "cell_type": "code",
   "execution_count": 22,
   "id": "b922de0e-fb43-4253-9170-2cba04f4968d",
   "metadata": {
    "execution": {
     "iopub.execute_input": "2022-08-05T00:08:00.468977Z",
     "iopub.status.busy": "2022-08-05T00:08:00.468536Z",
     "iopub.status.idle": "2022-08-05T00:08:00.473111Z",
     "shell.execute_reply": "2022-08-05T00:08:00.472348Z",
     "shell.execute_reply.started": "2022-08-05T00:08:00.468946Z"
    },
    "tags": []
   },
   "outputs": [],
   "source": [
    "output = pd.DataFrame(y_pred, index=X_test.index, columns=[\"prediction\"])"
   ]
  },
  {
   "cell_type": "code",
   "execution_count": 23,
   "id": "7a88e22e-6d70-41f4-8f36-92d2748657fc",
   "metadata": {
    "execution": {
     "iopub.execute_input": "2022-08-05T00:08:01.521143Z",
     "iopub.status.busy": "2022-08-05T00:08:01.520696Z",
     "iopub.status.idle": "2022-08-05T00:08:01.530196Z",
     "shell.execute_reply": "2022-08-05T00:08:01.529323Z",
     "shell.execute_reply.started": "2022-08-05T00:08:01.521118Z"
    },
    "tags": []
   },
   "outputs": [
    {
     "data": {
      "text/html": [
       "<div>\n",
       "<style scoped>\n",
       "    .dataframe tbody tr th:only-of-type {\n",
       "        vertical-align: middle;\n",
       "    }\n",
       "\n",
       "    .dataframe tbody tr th {\n",
       "        vertical-align: top;\n",
       "    }\n",
       "\n",
       "    .dataframe thead th {\n",
       "        text-align: right;\n",
       "    }\n",
       "</style>\n",
       "<table border=\"1\" class=\"dataframe\">\n",
       "  <thead>\n",
       "    <tr style=\"text-align: right;\">\n",
       "      <th></th>\n",
       "      <th>prediction</th>\n",
       "    </tr>\n",
       "    <tr>\n",
       "      <th>customer_ID</th>\n",
       "      <th></th>\n",
       "    </tr>\n",
       "  </thead>\n",
       "  <tbody>\n",
       "    <tr>\n",
       "      <th>2a05947fc2e73b7cf7d365020e35b8140f94ed582c7bc8b62d953486625e62e5</th>\n",
       "      <td>0</td>\n",
       "    </tr>\n",
       "    <tr>\n",
       "      <th>417d34ed5283c73d86ff2bd6e6c52a7093f950c893d0d84ba7f96fe7f750afd0</th>\n",
       "      <td>0</td>\n",
       "    </tr>\n",
       "    <tr>\n",
       "      <th>c3fce5f26d31df195843444452f25b071a1de0fc0e838e70a63010ddef2f978a</th>\n",
       "      <td>0</td>\n",
       "    </tr>\n",
       "    <tr>\n",
       "      <th>deeaa305fb24de126f39dd8bda1ef7d092d81dfbb6d983d2daa77ada723bd53e</th>\n",
       "      <td>0</td>\n",
       "    </tr>\n",
       "    <tr>\n",
       "      <th>798bce050633cd3896ef20346aa7afa39699f1a5884064ec0eb57754b291b781</th>\n",
       "      <td>0</td>\n",
       "    </tr>\n",
       "    <tr>\n",
       "      <th>...</th>\n",
       "      <td>...</td>\n",
       "    </tr>\n",
       "    <tr>\n",
       "      <th>7d9ac6017d3a963ccf625758bf6f5736df5df9b39ab8f2fc997362e242294995</th>\n",
       "      <td>0</td>\n",
       "    </tr>\n",
       "    <tr>\n",
       "      <th>67420ec37384babd17048f9ecfc7b3105f1bec2fb2c9324de0502408ab51115d</th>\n",
       "      <td>1</td>\n",
       "    </tr>\n",
       "    <tr>\n",
       "      <th>409fca50518e29e05ec870ff5cb2261fef7373153095344859c4f2feb4c74189</th>\n",
       "      <td>0</td>\n",
       "    </tr>\n",
       "    <tr>\n",
       "      <th>f26f492b2d6c9111e833bf360be8826b3a0164b5b2301aedb7935843bb493b88</th>\n",
       "      <td>1</td>\n",
       "    </tr>\n",
       "    <tr>\n",
       "      <th>4d979b6b75d3981def51059c8ebed47898bba076b44fe22ae1b5f91d2d3ad754</th>\n",
       "      <td>1</td>\n",
       "    </tr>\n",
       "  </tbody>\n",
       "</table>\n",
       "<p>924621 rows × 1 columns</p>\n",
       "</div>"
      ],
      "text/plain": [
       "                                                    prediction\n",
       "customer_ID                                                   \n",
       "2a05947fc2e73b7cf7d365020e35b8140f94ed582c7bc8b...           0\n",
       "417d34ed5283c73d86ff2bd6e6c52a7093f950c893d0d84...           0\n",
       "c3fce5f26d31df195843444452f25b071a1de0fc0e838e7...           0\n",
       "deeaa305fb24de126f39dd8bda1ef7d092d81dfbb6d983d...           0\n",
       "798bce050633cd3896ef20346aa7afa39699f1a5884064e...           0\n",
       "...                                                        ...\n",
       "7d9ac6017d3a963ccf625758bf6f5736df5df9b39ab8f2f...           0\n",
       "67420ec37384babd17048f9ecfc7b3105f1bec2fb2c9324...           1\n",
       "409fca50518e29e05ec870ff5cb2261fef7373153095344...           0\n",
       "f26f492b2d6c9111e833bf360be8826b3a0164b5b2301ae...           1\n",
       "4d979b6b75d3981def51059c8ebed47898bba076b44fe22...           1\n",
       "\n",
       "[924621 rows x 1 columns]"
      ]
     },
     "execution_count": 23,
     "metadata": {},
     "output_type": "execute_result"
    }
   ],
   "source": [
    "output"
   ]
  },
  {
   "cell_type": "code",
   "execution_count": 25,
   "id": "9e11f6ee-aa82-42d7-b4dc-6d675b4bdbfc",
   "metadata": {
    "execution": {
     "iopub.execute_input": "2022-08-05T00:09:08.787475Z",
     "iopub.status.busy": "2022-08-05T00:09:08.787139Z",
     "iopub.status.idle": "2022-08-05T00:09:10.130751Z",
     "shell.execute_reply": "2022-08-05T00:09:10.129973Z",
     "shell.execute_reply.started": "2022-08-05T00:09:08.787452Z"
    },
    "tags": []
   },
   "outputs": [],
   "source": [
    "output.to_csv(path / f'submissions/xgb1.csv')"
   ]
  },
  {
   "cell_type": "code",
   "execution_count": null,
   "id": "10ed66b3-c0fa-4f7b-890c-c4483e209acd",
   "metadata": {},
   "outputs": [],
   "source": []
  }
 ],
 "metadata": {
  "kernelspec": {
   "display_name": "saturn (Python 3)",
   "language": "python",
   "name": "python3"
  },
  "language_info": {
   "codemirror_mode": {
    "name": "ipython",
    "version": 3
   },
   "file_extension": ".py",
   "mimetype": "text/x-python",
   "name": "python",
   "nbconvert_exporter": "python",
   "pygments_lexer": "ipython3",
   "version": "3.9.10"
  }
 },
 "nbformat": 4,
 "nbformat_minor": 5
}
