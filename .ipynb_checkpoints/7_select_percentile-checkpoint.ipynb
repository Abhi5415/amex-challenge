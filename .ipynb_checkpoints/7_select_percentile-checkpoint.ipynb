{
 "cells": [
  {
   "cell_type": "code",
   "execution_count": null,
   "id": "cb9b8ef1-855e-456a-986d-684a6888cd8f",
   "metadata": {
    "tags": []
   },
   "outputs": [],
   "source": [
    "import pickle\n",
    "import numpy as np\n",
    "import pandas as pd\n",
    "import glob \n",
    "import gc\n",
    "import os\n",
    "\n",
    "\n",
    "from datetime import datetime\n",
    "from pathlib import Path\n",
    "\n",
    "import matplotlib.pyplot as plt \n",
    "import matplotlib\n",
    "\n",
    "from numpy.random import randint\n",
    "\n",
    "from scipy.stats import linregress \n",
    "from scipy.special import logsumexp \n",
    "\n",
    "from sklearn.impute import SimpleImputer, MissingIndicator\n",
    "from sklearn import preprocessing\n",
    "from sklearn.metrics import mean_absolute_error, make_scorer\n",
    "from sklearn.ensemble import GradientBoostingClassifier\n",
    "from sklearn.feature_selection import SelectFromModel, SelectPercentile, chi2, f_regression\n",
    "from sklearn.model_selection import train_test_split, cross_validate\n",
    "from sklearn.preprocessing import OneHotEncoder, StandardScaler, MinMaxScaler\n",
    "from sklearn.compose import ColumnTransformer\n",
    "from sklearn.pipeline import Pipeline, FeatureUnion\n",
    "from sklearn.model_selection import StratifiedKFold\n",
    "from sklearn.base import BaseEstimator, TransformerMixin"
   ]
  },
  {
   "cell_type": "code",
   "execution_count": 2,
   "id": "2fe0f0c9-7146-420d-b563-0a94c8405372",
   "metadata": {
    "execution": {
     "iopub.execute_input": "2022-08-07T20:09:23.697868Z",
     "iopub.status.busy": "2022-08-07T20:09:23.697483Z",
     "iopub.status.idle": "2022-08-07T20:09:23.700767Z",
     "shell.execute_reply": "2022-08-07T20:09:23.700224Z",
     "shell.execute_reply.started": "2022-08-07T20:09:23.697844Z"
    },
    "tags": []
   },
   "outputs": [],
   "source": [
    "path = Path('/home/jovyan/workspace/amex-challenge/archive')"
   ]
  },
  {
   "cell_type": "code",
   "execution_count": 3,
   "id": "c2ba9d48-0934-4163-bd97-536e63b6aa57",
   "metadata": {
    "execution": {
     "iopub.execute_input": "2022-08-07T20:09:23.701825Z",
     "iopub.status.busy": "2022-08-07T20:09:23.701620Z",
     "iopub.status.idle": "2022-08-07T20:09:23.713792Z",
     "shell.execute_reply": "2022-08-07T20:09:23.713260Z",
     "shell.execute_reply.started": "2022-08-07T20:09:23.701807Z"
    },
    "tags": []
   },
   "outputs": [],
   "source": [
    "class DateTransformer(BaseEstimator, TransformerMixin):\n",
    "    def fit(self, X, y=None):\n",
    "        return self\n",
    "\n",
    "    def transform(self, X, y=None):\n",
    "        X[\"S_2\"] = pd.to_datetime(X[\"S_2\"]).astype(int)/ 10**9\n",
    "        return X\n",
    "    \n",
    "class CoalesceTransformer(BaseEstimator, TransformerMixin):\n",
    "    def fit(self, X, y=None):\n",
    "        return self\n",
    "\n",
    "    def transform(self, X, y=None):\n",
    "        numerical_cols = joined.select_dtypes(include=(np.number)).columns.to_list()\n",
    "        numerical_cols.remove('S_2')\n",
    "        group = X.sort_values('S_2').groupby(\"customer_ID\")\n",
    "        def applyFunc(v):\n",
    "            return v[list(numerical_cols)].fillna(0).pct_change().fillna(0).clip(upper=1).mean()\n",
    "        X_g = group.apply(applyFunc).add_suffix('_pct')\n",
    "        X = group.tail(1)\n",
    "        X = pd.concat([X_g, X], axis=1)\n",
    "        return X\n",
    "    \n",
    "def amex_metric(y, y_pred, **kwargs):\n",
    "    y_true_pd = pd.DataFrame(y, columns=['target'])\n",
    "    y_pred_pd = pd.DataFrame(y_pred, columns=['prediction'])\n",
    "    \n",
    "    def top_four_percent_captured(y_true: pd.DataFrame, y_pred: pd.DataFrame) -> float:\n",
    "        df = (pd.concat([y_true, y_pred], axis='columns')\n",
    "              .sort_values('prediction', ascending=False))\n",
    "        df['weight'] = df['target'].apply(lambda x: 20 if x==0 else 1)\n",
    "        four_pct_cutoff = int(0.04 * df['weight'].sum())\n",
    "        df['weight_cumsum'] = df['weight'].cumsum()\n",
    "        df_cutoff = df.loc[df['weight_cumsum'] <= four_pct_cutoff]\n",
    "        return (df_cutoff['target'] == 1).sum() / (df['target'] == 1).sum()\n",
    "        \n",
    "    def weighted_gini(y_true: pd.DataFrame, y_pred: pd.DataFrame) -> float:\n",
    "        df = (pd.concat([y_true, y_pred], axis='columns')\n",
    "              .sort_values('prediction', ascending=False))\n",
    "        df['weight'] = df['target'].apply(lambda x: 20 if x==0 else 1)\n",
    "        df['random'] = (df['weight'] / df['weight'].sum()).cumsum()\n",
    "        total_pos = (df['target'] * df['weight']).sum()\n",
    "        df['cum_pos_found'] = (df['target'] * df['weight']).cumsum()\n",
    "        df['lorentz'] = df['cum_pos_found'] / total_pos\n",
    "        df['gini'] = (df['lorentz'] - df['random']) * df['weight']\n",
    "        return df['gini'].sum()\n",
    "\n",
    "    def normalized_weighted_gini(y_true: pd.DataFrame, y_pred: pd.DataFrame) -> float:\n",
    "        y_true_pred = y_true.rename(columns={'target': 'prediction'})\n",
    "        return weighted_gini(y_true, y_pred) / weighted_gini(y_true, y_true_pred)\n",
    "\n",
    "    g = normalized_weighted_gini(y_true_pd, y_pred_pd)\n",
    "    d = top_four_percent_captured(y_true_pd, y_pred_pd)\n",
    "\n",
    "    return 0.5 * (g + d)\n",
    "\n",
    "amex_scorer = make_scorer(amex_metric)"
   ]
  },
  {
   "cell_type": "code",
   "execution_count": 4,
   "id": "e3fa847f-48ed-4661-abe7-f37e7e41ad8f",
   "metadata": {
    "execution": {
     "iopub.execute_input": "2022-08-07T20:09:23.715307Z",
     "iopub.status.busy": "2022-08-07T20:09:23.715041Z",
     "iopub.status.idle": "2022-08-07T20:09:23.720558Z",
     "shell.execute_reply": "2022-08-07T20:09:23.720041Z",
     "shell.execute_reply.started": "2022-08-07T20:09:23.715287Z"
    },
    "tags": []
   },
   "outputs": [],
   "source": [
    "# train_data = pd.read_feather(path / f'data/train_data.ftr')\n",
    "# train_labels = pd.read_feather(path / f'data/train_labels.ftr')\n",
    "# train_data = train_data.set_index(\"customer_ID\")\n",
    "# train_labels = train_labels.set_index(\"customer_ID\")\n",
    "# joined = train_data.join(train_labels)\n"
   ]
  },
  {
   "cell_type": "code",
   "execution_count": 5,
   "id": "42d68335-28d8-499f-b466-fefc311401ed",
   "metadata": {
    "execution": {
     "iopub.execute_input": "2022-08-07T20:09:23.721429Z",
     "iopub.status.busy": "2022-08-07T20:09:23.721238Z",
     "iopub.status.idle": "2022-08-07T20:09:23.725676Z",
     "shell.execute_reply": "2022-08-07T20:09:23.725160Z",
     "shell.execute_reply.started": "2022-08-07T20:09:23.721413Z"
    },
    "tags": []
   },
   "outputs": [],
   "source": [
    "# categorical_cols = ['B_30', 'B_38', 'D_114', 'D_116', 'D_117', 'D_120', 'D_126', 'D_63', 'D_64', 'D_66', 'D_68']\n",
    "# numerical_cols = set(joined.select_dtypes(include=(np.number)).columns) - set('target')\n",
    "# non_numeric_cols = set(joined.columns).difference(numerical_cols)\n",
    "# cols_with_null = set(joined.columns[joined.isna().any()].tolist())"
   ]
  },
  {
   "cell_type": "code",
   "execution_count": 6,
   "id": "ac0dd1ac-1998-4cba-8009-77b4df9c3670",
   "metadata": {
    "execution": {
     "iopub.execute_input": "2022-08-07T20:09:23.726508Z",
     "iopub.status.busy": "2022-08-07T20:09:23.726322Z",
     "iopub.status.idle": "2022-08-07T20:09:23.731186Z",
     "shell.execute_reply": "2022-08-07T20:09:23.730668Z",
     "shell.execute_reply.started": "2022-08-07T20:09:23.726491Z"
    },
    "tags": []
   },
   "outputs": [],
   "source": [
    "# non_leaking_pipe = Pipeline([\n",
    "#     ('date', DateTransformer()),\n",
    "#     ('coalesce', CoalesceTransformer()),\n",
    "# ])"
   ]
  },
  {
   "cell_type": "code",
   "execution_count": 7,
   "id": "7356cce1-8be8-495a-947d-f0bb8d4777dd",
   "metadata": {
    "execution": {
     "iopub.execute_input": "2022-08-07T20:09:23.732114Z",
     "iopub.status.busy": "2022-08-07T20:09:23.731873Z",
     "iopub.status.idle": "2022-08-07T20:09:23.736765Z",
     "shell.execute_reply": "2022-08-07T20:09:23.736259Z",
     "shell.execute_reply.started": "2022-08-07T20:09:23.732096Z"
    },
    "tags": []
   },
   "outputs": [],
   "source": [
    "# joined_processed = non_leaking_pipe.fit_transform(joined)"
   ]
  },
  {
   "cell_type": "code",
   "execution_count": 8,
   "id": "a3263a57-090b-4346-bcbe-7c08c1f566e5",
   "metadata": {
    "execution": {
     "iopub.execute_input": "2022-08-07T20:09:24.045026Z",
     "iopub.status.busy": "2022-08-07T20:09:24.044642Z",
     "iopub.status.idle": "2022-08-07T20:09:24.047830Z",
     "shell.execute_reply": "2022-08-07T20:09:24.047267Z",
     "shell.execute_reply.started": "2022-08-07T20:09:24.045003Z"
    },
    "tags": []
   },
   "outputs": [],
   "source": [
    "# joined_processed = joined_processed.reset_index()"
   ]
  },
  {
   "cell_type": "code",
   "execution_count": 9,
   "id": "eb3ba8f1-ff26-40db-88d1-972831d1d06d",
   "metadata": {
    "execution": {
     "iopub.execute_input": "2022-08-07T20:09:24.223202Z",
     "iopub.status.busy": "2022-08-07T20:09:24.222813Z",
     "iopub.status.idle": "2022-08-07T20:09:24.226113Z",
     "shell.execute_reply": "2022-08-07T20:09:24.225525Z",
     "shell.execute_reply.started": "2022-08-07T20:09:24.223179Z"
    },
    "tags": []
   },
   "outputs": [],
   "source": [
    "# joined_processed.to_feather(path / f'train_slopes.ftr')"
   ]
  },
  {
   "cell_type": "code",
   "execution_count": 10,
   "id": "50eb9bf1-5497-4c33-9ed3-26696eac9e20",
   "metadata": {
    "execution": {
     "iopub.execute_input": "2022-08-07T20:09:24.384557Z",
     "iopub.status.busy": "2022-08-07T20:09:24.384169Z",
     "iopub.status.idle": "2022-08-07T20:09:32.972475Z",
     "shell.execute_reply": "2022-08-07T20:09:32.971817Z",
     "shell.execute_reply.started": "2022-08-07T20:09:24.384533Z"
    },
    "tags": []
   },
   "outputs": [],
   "source": [
    "joined_processed = pd.read_feather(path / f'train_slopes.ftr')\n",
    "joined_processed = joined_processed.set_index('customer_ID')"
   ]
  },
  {
   "cell_type": "code",
   "execution_count": 11,
   "id": "01102ce5-5b05-4f2c-98ec-ff2e1cd7b90c",
   "metadata": {
    "execution": {
     "iopub.execute_input": "2022-08-07T20:09:32.973940Z",
     "iopub.status.busy": "2022-08-07T20:09:32.973616Z",
     "iopub.status.idle": "2022-08-07T20:09:34.284390Z",
     "shell.execute_reply": "2022-08-07T20:09:34.283728Z",
     "shell.execute_reply.started": "2022-08-07T20:09:32.973919Z"
    },
    "tags": []
   },
   "outputs": [],
   "source": [
    "y = joined_processed.target\n",
    "X = joined_processed.drop(\"target\", axis=1)"
   ]
  },
  {
   "cell_type": "code",
   "execution_count": 12,
   "id": "9274cc73-abc2-4a42-9c4a-68e79ea1868d",
   "metadata": {
    "execution": {
     "iopub.execute_input": "2022-08-07T20:09:34.285699Z",
     "iopub.status.busy": "2022-08-07T20:09:34.285310Z",
     "iopub.status.idle": "2022-08-07T20:09:35.205286Z",
     "shell.execute_reply": "2022-08-07T20:09:35.204656Z",
     "shell.execute_reply.started": "2022-08-07T20:09:34.285675Z"
    },
    "tags": []
   },
   "outputs": [],
   "source": [
    "# Fix all inf values\n",
    "X.replace([np.inf, -np.inf], 2, inplace=True)"
   ]
  },
  {
   "cell_type": "code",
   "execution_count": 13,
   "id": "415dbb95-9660-4c3d-9b00-edf73e60e35e",
   "metadata": {
    "execution": {
     "iopub.execute_input": "2022-08-07T20:09:35.207877Z",
     "iopub.status.busy": "2022-08-07T20:09:35.207161Z",
     "iopub.status.idle": "2022-08-07T20:09:35.472872Z",
     "shell.execute_reply": "2022-08-07T20:09:35.472231Z",
     "shell.execute_reply.started": "2022-08-07T20:09:35.207837Z"
    },
    "tags": []
   },
   "outputs": [],
   "source": [
    "categorical_cols = ['B_30', 'B_38', 'D_114', 'D_116', 'D_117', 'D_120', 'D_126', 'D_63', 'D_64', 'D_66', 'D_68']\n",
    "numerical_cols = set(X.select_dtypes(include=(np.number)).columns)\n",
    "non_numeric_cols = set(X.columns).difference(numerical_cols)\n",
    "cols_with_null = set(X.columns[X.isna().any()].tolist())"
   ]
  },
  {
   "cell_type": "code",
   "execution_count": 14,
   "id": "8d3233ff-6dfe-41ab-9509-399d4e921e27",
   "metadata": {
    "execution": {
     "iopub.execute_input": "2022-08-07T20:09:35.474566Z",
     "iopub.status.busy": "2022-08-07T20:09:35.473857Z",
     "iopub.status.idle": "2022-08-07T20:09:35.479189Z",
     "shell.execute_reply": "2022-08-07T20:09:35.478663Z",
     "shell.execute_reply.started": "2022-08-07T20:09:35.474529Z"
    },
    "tags": []
   },
   "outputs": [],
   "source": [
    "handle_null_numerical = FeatureUnion([\n",
    "         ('features', SimpleImputer()),\n",
    "         ('indicators', MissingIndicator())\n",
    "])\n",
    "\n",
    "preprocessor = ColumnTransformer([\n",
    "    ('categorical_encoder', OneHotEncoder(handle_unknown='ignore'), categorical_cols),\n",
    "    ('numerical_imputer', handle_null_numerical, list(cols_with_null - non_numeric_cols)),\n",
    "    ('scaler', StandardScaler(), list(numerical_cols))\n",
    "], \n",
    "remainder=\"passthrough\")"
   ]
  },
  {
   "cell_type": "code",
   "execution_count": 15,
   "id": "b6e06bcf-ad61-46a9-aa53-4e7107fd1873",
   "metadata": {
    "execution": {
     "iopub.execute_input": "2022-08-07T20:09:35.480372Z",
     "iopub.status.busy": "2022-08-07T20:09:35.480048Z",
     "iopub.status.idle": "2022-08-07T20:09:35.485526Z",
     "shell.execute_reply": "2022-08-07T20:09:35.485027Z",
     "shell.execute_reply.started": "2022-08-07T20:09:35.480343Z"
    },
    "tags": []
   },
   "outputs": [],
   "source": [
    "pipe = Pipeline([\n",
    "    ('preprocessor', preprocessor),\n",
    "    ('impute', SimpleImputer(strategy='median')),\n",
    "    ('skb', SelectPercentile(score_func=f_regression, percentile=40)),\n",
    "    ('feature_selection_sfm', SelectFromModel(GradientBoostingClassifier(n_estimators=30,verbose=True))),\n",
    "    ('xgb', GradientBoostingClassifier(verbose=True))\n",
    "])"
   ]
  },
  {
   "cell_type": "code",
   "execution_count": 16,
   "id": "2b437055-a412-4dff-ab43-a8d212da8aa6",
   "metadata": {
    "execution": {
     "iopub.execute_input": "2022-08-07T20:09:35.486786Z",
     "iopub.status.busy": "2022-08-07T20:09:35.486360Z",
     "iopub.status.idle": "2022-08-07T20:10:04.110680Z",
     "shell.execute_reply": "2022-08-07T20:10:04.109690Z",
     "shell.execute_reply.started": "2022-08-07T20:09:35.486756Z"
    },
    "tags": []
   },
   "outputs": [
    {
     "name": "stderr",
     "output_type": "stream",
     "text": [
      "[Parallel(n_jobs=5)]: Using backend LokyBackend with 5 concurrent workers.\n",
      "[Parallel(n_jobs=5)]: Done   2 out of   5 | elapsed:   27.3s remaining:   40.9s\n",
      "[Parallel(n_jobs=5)]: Done   3 out of   5 | elapsed:   27.3s remaining:   18.2s\n",
      "[Parallel(n_jobs=5)]: Done   5 out of   5 | elapsed:   27.3s remaining:    0.0s\n"
     ]
    },
    {
     "ename": "TerminatedWorkerError",
     "evalue": "A worker process managed by the executor was unexpectedly terminated. This could be caused by a segmentation fault while calling the function or by an excessive memory usage causing the Operating System to kill the worker.\n\nThe exit codes of the workers are {SIGKILL(-9)}",
     "output_type": "error",
     "traceback": [
      "\u001b[0;31m---------------------------------------------------------------------------\u001b[0m",
      "\u001b[0;31mTerminatedWorkerError\u001b[0m                     Traceback (most recent call last)",
      "Input \u001b[0;32mIn [16]\u001b[0m, in \u001b[0;36m<cell line: 3>\u001b[0;34m()\u001b[0m\n\u001b[1;32m      1\u001b[0m cv \u001b[38;5;241m=\u001b[39m StratifiedKFold(n_splits\u001b[38;5;241m=\u001b[39m\u001b[38;5;241m5\u001b[39m, random_state\u001b[38;5;241m=\u001b[39m\u001b[38;5;28;01mNone\u001b[39;00m, shuffle\u001b[38;5;241m=\u001b[39m\u001b[38;5;28;01mFalse\u001b[39;00m)\n\u001b[1;32m      2\u001b[0m scorer \u001b[38;5;241m=\u001b[39m {\u001b[38;5;124m'\u001b[39m\u001b[38;5;124mprecision\u001b[39m\u001b[38;5;124m'\u001b[39m: \u001b[38;5;124m'\u001b[39m\u001b[38;5;124mprecision\u001b[39m\u001b[38;5;124m'\u001b[39m, \u001b[38;5;124m'\u001b[39m\u001b[38;5;124mrecall\u001b[39m\u001b[38;5;124m'\u001b[39m:\u001b[38;5;124m'\u001b[39m\u001b[38;5;124mrecall\u001b[39m\u001b[38;5;124m'\u001b[39m, \u001b[38;5;124m'\u001b[39m\u001b[38;5;124mf1\u001b[39m\u001b[38;5;124m'\u001b[39m:\u001b[38;5;124m'\u001b[39m\u001b[38;5;124mf1\u001b[39m\u001b[38;5;124m'\u001b[39m, \u001b[38;5;124m'\u001b[39m\u001b[38;5;124maccuracy\u001b[39m\u001b[38;5;124m'\u001b[39m:\u001b[38;5;124m'\u001b[39m\u001b[38;5;124maccuracy\u001b[39m\u001b[38;5;124m'\u001b[39m, \u001b[38;5;124m'\u001b[39m\u001b[38;5;124mbalanced_accuracy\u001b[39m\u001b[38;5;124m'\u001b[39m: \u001b[38;5;124m'\u001b[39m\u001b[38;5;124mbalanced_accuracy\u001b[39m\u001b[38;5;124m'\u001b[39m, \u001b[38;5;124m\"\u001b[39m\u001b[38;5;124mamex\u001b[39m\u001b[38;5;124m\"\u001b[39m: amex_scorer}\n\u001b[0;32m----> 3\u001b[0m scores \u001b[38;5;241m=\u001b[39m \u001b[43mcross_validate\u001b[49m\u001b[43m(\u001b[49m\u001b[43mpipe\u001b[49m\u001b[43m,\u001b[49m\u001b[43m \u001b[49m\u001b[43mX\u001b[49m\u001b[43m,\u001b[49m\u001b[43m \u001b[49m\u001b[43my\u001b[49m\u001b[43m,\u001b[49m\u001b[43m \u001b[49m\u001b[43mcv\u001b[49m\u001b[38;5;241;43m=\u001b[39;49m\u001b[43mcv\u001b[49m\u001b[43m,\u001b[49m\u001b[43m \u001b[49m\u001b[43mn_jobs\u001b[49m\u001b[38;5;241;43m=\u001b[39;49m\u001b[38;5;241;43m5\u001b[39;49m\u001b[43m,\u001b[49m\n\u001b[1;32m      4\u001b[0m \u001b[43m                        \u001b[49m\u001b[43mscoring\u001b[49m\u001b[38;5;241;43m=\u001b[39;49m\u001b[43mscorer\u001b[49m\u001b[43m,\u001b[49m\n\u001b[1;32m      5\u001b[0m \u001b[43m                        \u001b[49m\u001b[43mreturn_train_score\u001b[49m\u001b[38;5;241;43m=\u001b[39;49m\u001b[38;5;28;43;01mTrue\u001b[39;49;00m\u001b[43m,\u001b[49m\u001b[43m \u001b[49m\u001b[43mverbose\u001b[49m\u001b[38;5;241;43m=\u001b[39;49m\u001b[38;5;241;43m10\u001b[39;49m\u001b[43m)\u001b[49m\n",
      "File \u001b[0;32m/srv/conda/envs/saturn/lib/python3.9/site-packages/sklearn/model_selection/_validation.py:267\u001b[0m, in \u001b[0;36mcross_validate\u001b[0;34m(estimator, X, y, groups, scoring, cv, n_jobs, verbose, fit_params, pre_dispatch, return_train_score, return_estimator, error_score)\u001b[0m\n\u001b[1;32m    264\u001b[0m \u001b[38;5;66;03m# We clone the estimator to make sure that all the folds are\u001b[39;00m\n\u001b[1;32m    265\u001b[0m \u001b[38;5;66;03m# independent, and that it is pickle-able.\u001b[39;00m\n\u001b[1;32m    266\u001b[0m parallel \u001b[38;5;241m=\u001b[39m Parallel(n_jobs\u001b[38;5;241m=\u001b[39mn_jobs, verbose\u001b[38;5;241m=\u001b[39mverbose, pre_dispatch\u001b[38;5;241m=\u001b[39mpre_dispatch)\n\u001b[0;32m--> 267\u001b[0m results \u001b[38;5;241m=\u001b[39m \u001b[43mparallel\u001b[49m\u001b[43m(\u001b[49m\n\u001b[1;32m    268\u001b[0m \u001b[43m    \u001b[49m\u001b[43mdelayed\u001b[49m\u001b[43m(\u001b[49m\u001b[43m_fit_and_score\u001b[49m\u001b[43m)\u001b[49m\u001b[43m(\u001b[49m\n\u001b[1;32m    269\u001b[0m \u001b[43m        \u001b[49m\u001b[43mclone\u001b[49m\u001b[43m(\u001b[49m\u001b[43mestimator\u001b[49m\u001b[43m)\u001b[49m\u001b[43m,\u001b[49m\n\u001b[1;32m    270\u001b[0m \u001b[43m        \u001b[49m\u001b[43mX\u001b[49m\u001b[43m,\u001b[49m\n\u001b[1;32m    271\u001b[0m \u001b[43m        \u001b[49m\u001b[43my\u001b[49m\u001b[43m,\u001b[49m\n\u001b[1;32m    272\u001b[0m \u001b[43m        \u001b[49m\u001b[43mscorers\u001b[49m\u001b[43m,\u001b[49m\n\u001b[1;32m    273\u001b[0m \u001b[43m        \u001b[49m\u001b[43mtrain\u001b[49m\u001b[43m,\u001b[49m\n\u001b[1;32m    274\u001b[0m \u001b[43m        \u001b[49m\u001b[43mtest\u001b[49m\u001b[43m,\u001b[49m\n\u001b[1;32m    275\u001b[0m \u001b[43m        \u001b[49m\u001b[43mverbose\u001b[49m\u001b[43m,\u001b[49m\n\u001b[1;32m    276\u001b[0m \u001b[43m        \u001b[49m\u001b[38;5;28;43;01mNone\u001b[39;49;00m\u001b[43m,\u001b[49m\n\u001b[1;32m    277\u001b[0m \u001b[43m        \u001b[49m\u001b[43mfit_params\u001b[49m\u001b[43m,\u001b[49m\n\u001b[1;32m    278\u001b[0m \u001b[43m        \u001b[49m\u001b[43mreturn_train_score\u001b[49m\u001b[38;5;241;43m=\u001b[39;49m\u001b[43mreturn_train_score\u001b[49m\u001b[43m,\u001b[49m\n\u001b[1;32m    279\u001b[0m \u001b[43m        \u001b[49m\u001b[43mreturn_times\u001b[49m\u001b[38;5;241;43m=\u001b[39;49m\u001b[38;5;28;43;01mTrue\u001b[39;49;00m\u001b[43m,\u001b[49m\n\u001b[1;32m    280\u001b[0m \u001b[43m        \u001b[49m\u001b[43mreturn_estimator\u001b[49m\u001b[38;5;241;43m=\u001b[39;49m\u001b[43mreturn_estimator\u001b[49m\u001b[43m,\u001b[49m\n\u001b[1;32m    281\u001b[0m \u001b[43m        \u001b[49m\u001b[43merror_score\u001b[49m\u001b[38;5;241;43m=\u001b[39;49m\u001b[43merror_score\u001b[49m\u001b[43m,\u001b[49m\n\u001b[1;32m    282\u001b[0m \u001b[43m    \u001b[49m\u001b[43m)\u001b[49m\n\u001b[1;32m    283\u001b[0m \u001b[43m    \u001b[49m\u001b[38;5;28;43;01mfor\u001b[39;49;00m\u001b[43m \u001b[49m\u001b[43mtrain\u001b[49m\u001b[43m,\u001b[49m\u001b[43m \u001b[49m\u001b[43mtest\u001b[49m\u001b[43m \u001b[49m\u001b[38;5;129;43;01min\u001b[39;49;00m\u001b[43m \u001b[49m\u001b[43mcv\u001b[49m\u001b[38;5;241;43m.\u001b[39;49m\u001b[43msplit\u001b[49m\u001b[43m(\u001b[49m\u001b[43mX\u001b[49m\u001b[43m,\u001b[49m\u001b[43m \u001b[49m\u001b[43my\u001b[49m\u001b[43m,\u001b[49m\u001b[43m \u001b[49m\u001b[43mgroups\u001b[49m\u001b[43m)\u001b[49m\n\u001b[1;32m    284\u001b[0m \u001b[43m\u001b[49m\u001b[43m)\u001b[49m\n\u001b[1;32m    286\u001b[0m _warn_about_fit_failures(results, error_score)\n\u001b[1;32m    288\u001b[0m \u001b[38;5;66;03m# For callabe scoring, the return type is only know after calling. If the\u001b[39;00m\n\u001b[1;32m    289\u001b[0m \u001b[38;5;66;03m# return type is a dictionary, the error scores can now be inserted with\u001b[39;00m\n\u001b[1;32m    290\u001b[0m \u001b[38;5;66;03m# the correct key.\u001b[39;00m\n",
      "File \u001b[0;32m/srv/conda/envs/saturn/lib/python3.9/site-packages/joblib/parallel.py:1056\u001b[0m, in \u001b[0;36mParallel.__call__\u001b[0;34m(self, iterable)\u001b[0m\n\u001b[1;32m   1053\u001b[0m     \u001b[38;5;28mself\u001b[39m\u001b[38;5;241m.\u001b[39m_iterating \u001b[38;5;241m=\u001b[39m \u001b[38;5;28;01mFalse\u001b[39;00m\n\u001b[1;32m   1055\u001b[0m \u001b[38;5;28;01mwith\u001b[39;00m \u001b[38;5;28mself\u001b[39m\u001b[38;5;241m.\u001b[39m_backend\u001b[38;5;241m.\u001b[39mretrieval_context():\n\u001b[0;32m-> 1056\u001b[0m     \u001b[38;5;28;43mself\u001b[39;49m\u001b[38;5;241;43m.\u001b[39;49m\u001b[43mretrieve\u001b[49m\u001b[43m(\u001b[49m\u001b[43m)\u001b[49m\n\u001b[1;32m   1057\u001b[0m \u001b[38;5;66;03m# Make sure that we get a last message telling us we are done\u001b[39;00m\n\u001b[1;32m   1058\u001b[0m elapsed_time \u001b[38;5;241m=\u001b[39m time\u001b[38;5;241m.\u001b[39mtime() \u001b[38;5;241m-\u001b[39m \u001b[38;5;28mself\u001b[39m\u001b[38;5;241m.\u001b[39m_start_time\n",
      "File \u001b[0;32m/srv/conda/envs/saturn/lib/python3.9/site-packages/joblib/parallel.py:935\u001b[0m, in \u001b[0;36mParallel.retrieve\u001b[0;34m(self)\u001b[0m\n\u001b[1;32m    933\u001b[0m \u001b[38;5;28;01mtry\u001b[39;00m:\n\u001b[1;32m    934\u001b[0m     \u001b[38;5;28;01mif\u001b[39;00m \u001b[38;5;28mgetattr\u001b[39m(\u001b[38;5;28mself\u001b[39m\u001b[38;5;241m.\u001b[39m_backend, \u001b[38;5;124m'\u001b[39m\u001b[38;5;124msupports_timeout\u001b[39m\u001b[38;5;124m'\u001b[39m, \u001b[38;5;28;01mFalse\u001b[39;00m):\n\u001b[0;32m--> 935\u001b[0m         \u001b[38;5;28mself\u001b[39m\u001b[38;5;241m.\u001b[39m_output\u001b[38;5;241m.\u001b[39mextend(\u001b[43mjob\u001b[49m\u001b[38;5;241;43m.\u001b[39;49m\u001b[43mget\u001b[49m\u001b[43m(\u001b[49m\u001b[43mtimeout\u001b[49m\u001b[38;5;241;43m=\u001b[39;49m\u001b[38;5;28;43mself\u001b[39;49m\u001b[38;5;241;43m.\u001b[39;49m\u001b[43mtimeout\u001b[49m\u001b[43m)\u001b[49m)\n\u001b[1;32m    936\u001b[0m     \u001b[38;5;28;01melse\u001b[39;00m:\n\u001b[1;32m    937\u001b[0m         \u001b[38;5;28mself\u001b[39m\u001b[38;5;241m.\u001b[39m_output\u001b[38;5;241m.\u001b[39mextend(job\u001b[38;5;241m.\u001b[39mget())\n",
      "File \u001b[0;32m/srv/conda/envs/saturn/lib/python3.9/site-packages/joblib/_parallel_backends.py:542\u001b[0m, in \u001b[0;36mLokyBackend.wrap_future_result\u001b[0;34m(future, timeout)\u001b[0m\n\u001b[1;32m    539\u001b[0m \u001b[38;5;124;03m\"\"\"Wrapper for Future.result to implement the same behaviour as\u001b[39;00m\n\u001b[1;32m    540\u001b[0m \u001b[38;5;124;03mAsyncResults.get from multiprocessing.\"\"\"\u001b[39;00m\n\u001b[1;32m    541\u001b[0m \u001b[38;5;28;01mtry\u001b[39;00m:\n\u001b[0;32m--> 542\u001b[0m     \u001b[38;5;28;01mreturn\u001b[39;00m \u001b[43mfuture\u001b[49m\u001b[38;5;241;43m.\u001b[39;49m\u001b[43mresult\u001b[49m\u001b[43m(\u001b[49m\u001b[43mtimeout\u001b[49m\u001b[38;5;241;43m=\u001b[39;49m\u001b[43mtimeout\u001b[49m\u001b[43m)\u001b[49m\n\u001b[1;32m    543\u001b[0m \u001b[38;5;28;01mexcept\u001b[39;00m CfTimeoutError \u001b[38;5;28;01mas\u001b[39;00m e:\n\u001b[1;32m    544\u001b[0m     \u001b[38;5;28;01mraise\u001b[39;00m \u001b[38;5;167;01mTimeoutError\u001b[39;00m \u001b[38;5;28;01mfrom\u001b[39;00m \u001b[38;5;21;01me\u001b[39;00m\n",
      "File \u001b[0;32m/srv/conda/envs/saturn/lib/python3.9/concurrent/futures/_base.py:446\u001b[0m, in \u001b[0;36mFuture.result\u001b[0;34m(self, timeout)\u001b[0m\n\u001b[1;32m    444\u001b[0m     \u001b[38;5;28;01mraise\u001b[39;00m CancelledError()\n\u001b[1;32m    445\u001b[0m \u001b[38;5;28;01melif\u001b[39;00m \u001b[38;5;28mself\u001b[39m\u001b[38;5;241m.\u001b[39m_state \u001b[38;5;241m==\u001b[39m FINISHED:\n\u001b[0;32m--> 446\u001b[0m     \u001b[38;5;28;01mreturn\u001b[39;00m \u001b[38;5;28;43mself\u001b[39;49m\u001b[38;5;241;43m.\u001b[39;49m\u001b[43m__get_result\u001b[49m\u001b[43m(\u001b[49m\u001b[43m)\u001b[49m\n\u001b[1;32m    447\u001b[0m \u001b[38;5;28;01melse\u001b[39;00m:\n\u001b[1;32m    448\u001b[0m     \u001b[38;5;28;01mraise\u001b[39;00m \u001b[38;5;167;01mTimeoutError\u001b[39;00m()\n",
      "File \u001b[0;32m/srv/conda/envs/saturn/lib/python3.9/concurrent/futures/_base.py:391\u001b[0m, in \u001b[0;36mFuture.__get_result\u001b[0;34m(self)\u001b[0m\n\u001b[1;32m    389\u001b[0m \u001b[38;5;28;01mif\u001b[39;00m \u001b[38;5;28mself\u001b[39m\u001b[38;5;241m.\u001b[39m_exception:\n\u001b[1;32m    390\u001b[0m     \u001b[38;5;28;01mtry\u001b[39;00m:\n\u001b[0;32m--> 391\u001b[0m         \u001b[38;5;28;01mraise\u001b[39;00m \u001b[38;5;28mself\u001b[39m\u001b[38;5;241m.\u001b[39m_exception\n\u001b[1;32m    392\u001b[0m     \u001b[38;5;28;01mfinally\u001b[39;00m:\n\u001b[1;32m    393\u001b[0m         \u001b[38;5;66;03m# Break a reference cycle with the exception in self._exception\u001b[39;00m\n\u001b[1;32m    394\u001b[0m         \u001b[38;5;28mself\u001b[39m \u001b[38;5;241m=\u001b[39m \u001b[38;5;28;01mNone\u001b[39;00m\n",
      "\u001b[0;31mTerminatedWorkerError\u001b[0m: A worker process managed by the executor was unexpectedly terminated. This could be caused by a segmentation fault while calling the function or by an excessive memory usage causing the Operating System to kill the worker.\n\nThe exit codes of the workers are {SIGKILL(-9)}"
     ]
    }
   ],
   "source": [
    "cv = StratifiedKFold(n_splits=5, random_state=None, shuffle=False)\n",
    "scorer = {'precision': 'precision', 'recall':'recall', 'f1':'f1', 'accuracy':'accuracy', 'balanced_accuracy': 'balanced_accuracy', \"amex\": amex_scorer}\n",
    "scores = cross_validate(pipe, X, y, cv=cv, n_jobs=5,\n",
    "                        scoring=scorer,\n",
    "                        return_train_score=True, verbose=10)"
   ]
  },
  {
   "cell_type": "code",
   "execution_count": null,
   "id": "1f405db9-d684-4eea-bcd9-c326f3d5453c",
   "metadata": {
    "execution": {
     "iopub.status.busy": "2022-08-07T20:10:04.111425Z",
     "iopub.status.idle": "2022-08-07T20:10:04.111769Z",
     "shell.execute_reply": "2022-08-07T20:10:04.111647Z",
     "shell.execute_reply.started": "2022-08-07T20:10:04.111633Z"
    },
    "tags": []
   },
   "outputs": [],
   "source": [
    "scores"
   ]
  }
 ],
 "metadata": {
  "kernelspec": {
   "display_name": "saturn (Python 3)",
   "language": "python",
   "name": "python3"
  },
  "language_info": {
   "codemirror_mode": {
    "name": "ipython",
    "version": 3
   },
   "file_extension": ".py",
   "mimetype": "text/x-python",
   "name": "python",
   "nbconvert_exporter": "python",
   "pygments_lexer": "ipython3",
   "version": "3.9.10"
  }
 },
 "nbformat": 4,
 "nbformat_minor": 5
}
