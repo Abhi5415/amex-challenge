{
 "cells": [
  {
   "cell_type": "code",
   "execution_count": 15,
   "id": "a8511e69-990d-46d6-aba0-5f10e3db32ef",
   "metadata": {
    "execution": {
     "iopub.execute_input": "2022-08-03T01:13:55.981021Z",
     "iopub.status.busy": "2022-08-03T01:13:55.980629Z",
     "iopub.status.idle": "2022-08-03T01:13:55.985221Z",
     "shell.execute_reply": "2022-08-03T01:13:55.984675Z",
     "shell.execute_reply.started": "2022-08-03T01:13:55.980995Z"
    },
    "tags": []
   },
   "outputs": [],
   "source": [
    "import numpy as np\n",
    "import pandas as pd\n",
    "from pathlib import Path\n",
    "import glob \n",
    "import os\n",
    "import matplotlib.pyplot as plt \n",
    "import matplotlib\n",
    "from datetime import datetime\n",
    "from sklearn.metrics import mean_absolute_error\n",
    "from sklearn.ensemble import GradientBoostingClassifier\n",
    "from sklearn.model_selection import train_test_split\n",
    "import gc\n",
    "from sklearn import preprocessing\n",
    "from scipy.stats import linregress \n",
    "import pickle\n",
    "from sklearn.model_selection import StratifiedKFold"
   ]
  },
  {
   "cell_type": "code",
   "execution_count": 13,
   "id": "f6b9fc47-ae8e-4619-8272-b89bd8eef11f",
   "metadata": {
    "execution": {
     "iopub.execute_input": "2022-08-03T01:05:10.070737Z",
     "iopub.status.busy": "2022-08-03T01:05:10.070340Z",
     "iopub.status.idle": "2022-08-03T01:05:10.078824Z",
     "shell.execute_reply": "2022-08-03T01:05:10.078260Z",
     "shell.execute_reply.started": "2022-08-03T01:05:10.070712Z"
    }
   },
   "outputs": [],
   "source": [
    "def amex_metric(y_true: pd.DataFrame, y_pred: pd.DataFrame) -> float:\n",
    "\n",
    "    def top_four_percent_captured(y_true: pd.DataFrame, y_pred: pd.DataFrame) -> float:\n",
    "        df = (pd.concat([y_true, y_pred], axis='columns')\n",
    "              .sort_values('prediction', ascending=False))\n",
    "        df['weight'] = df['target'].apply(lambda x: 20 if x==0 else 1)\n",
    "        four_pct_cutoff = int(0.04 * df['weight'].sum())\n",
    "        df['weight_cumsum'] = df['weight'].cumsum()\n",
    "        df_cutoff = df.loc[df['weight_cumsum'] <= four_pct_cutoff]\n",
    "        return (df_cutoff['target'] == 1).sum() / (df['target'] == 1).sum()\n",
    "        \n",
    "    def weighted_gini(y_true: pd.DataFrame, y_pred: pd.DataFrame) -> float:\n",
    "        df = (pd.concat([y_true, y_pred], axis='columns')\n",
    "              .sort_values('prediction', ascending=False))\n",
    "        df['weight'] = df['target'].apply(lambda x: 20 if x==0 else 1)\n",
    "        df['random'] = (df['weight'] / df['weight'].sum()).cumsum()\n",
    "        total_pos = (df['target'] * df['weight']).sum()\n",
    "        df['cum_pos_found'] = (df['target'] * df['weight']).cumsum()\n",
    "        df['lorentz'] = df['cum_pos_found'] / total_pos\n",
    "        df['gini'] = (df['lorentz'] - df['random']) * df['weight']\n",
    "        return df['gini'].sum()\n",
    "\n",
    "    def normalized_weighted_gini(y_true: pd.DataFrame, y_pred: pd.DataFrame) -> float:\n",
    "        y_true_pred = y_true.rename(columns={'target': 'prediction'})\n",
    "        return weighted_gini(y_true, y_pred) / weighted_gini(y_true, y_true_pred)\n",
    "\n",
    "    g = normalized_weighted_gini(y_true, y_pred)\n",
    "    d = top_four_percent_captured(y_true, y_pred)\n",
    "\n",
    "    return 0.5 * (g + d)"
   ]
  },
  {
   "cell_type": "code",
   "execution_count": 2,
   "id": "ad6991be-fba8-460e-b52f-b503a11d60d8",
   "metadata": {
    "execution": {
     "iopub.execute_input": "2022-08-03T00:54:42.269912Z",
     "iopub.status.busy": "2022-08-03T00:54:42.269548Z",
     "iopub.status.idle": "2022-08-03T00:54:42.272670Z",
     "shell.execute_reply": "2022-08-03T00:54:42.272158Z",
     "shell.execute_reply.started": "2022-08-03T00:54:42.269889Z"
    },
    "tags": []
   },
   "outputs": [],
   "source": [
    "path = Path('/home/jovyan/workspace/amex-challenge/archive')"
   ]
  },
  {
   "cell_type": "code",
   "execution_count": 7,
   "id": "6bc8964d-329b-40c9-b2d1-fd3f8d907c1e",
   "metadata": {
    "execution": {
     "iopub.execute_input": "2022-08-03T00:57:21.618833Z",
     "iopub.status.busy": "2022-08-03T00:57:21.618349Z",
     "iopub.status.idle": "2022-08-03T00:57:22.464909Z",
     "shell.execute_reply": "2022-08-03T00:57:22.464285Z",
     "shell.execute_reply.started": "2022-08-03T00:57:21.618802Z"
    },
    "tags": []
   },
   "outputs": [],
   "source": [
    "train_data = pd.read_feather(path / 'data/processed_train_data_v1.ftr')\n",
    "train_labels = pd.read_feather(path / 'data/train_labels.ftr')"
   ]
  },
  {
   "cell_type": "code",
   "execution_count": 9,
   "id": "332e2a18-f963-4529-8125-c3fa4a2b1b35",
   "metadata": {
    "execution": {
     "iopub.execute_input": "2022-08-03T00:58:07.978290Z",
     "iopub.status.busy": "2022-08-03T00:58:07.977893Z",
     "iopub.status.idle": "2022-08-03T00:58:08.447643Z",
     "shell.execute_reply": "2022-08-03T00:58:08.447006Z",
     "shell.execute_reply.started": "2022-08-03T00:58:07.978263Z"
    },
    "tags": []
   },
   "outputs": [],
   "source": [
    "train_data = train_data.set_index(\"customer_ID\")\n",
    "train_labels = train_labels.set_index(\"customer_ID\")"
   ]
  },
  {
   "cell_type": "code",
   "execution_count": 10,
   "id": "81d951c2-2b35-4631-9a06-f3d7f69bc64e",
   "metadata": {
    "execution": {
     "iopub.execute_input": "2022-08-03T00:58:31.537068Z",
     "iopub.status.busy": "2022-08-03T00:58:31.536656Z",
     "iopub.status.idle": "2022-08-03T00:58:32.252102Z",
     "shell.execute_reply": "2022-08-03T00:58:32.251365Z",
     "shell.execute_reply.started": "2022-08-03T00:58:31.537040Z"
    }
   },
   "outputs": [],
   "source": [
    "data = train_data.join(train_labels)"
   ]
  },
  {
   "cell_type": "code",
   "execution_count": 31,
   "id": "5f3fb472-9ed2-4b13-a2e4-1651a7982a1a",
   "metadata": {
    "execution": {
     "iopub.execute_input": "2022-08-03T01:28:25.941116Z",
     "iopub.status.busy": "2022-08-03T01:28:25.940674Z",
     "iopub.status.idle": "2022-08-03T01:28:26.407971Z",
     "shell.execute_reply": "2022-08-03T01:28:26.407347Z",
     "shell.execute_reply.started": "2022-08-03T01:28:25.941087Z"
    },
    "tags": []
   },
   "outputs": [
    {
     "data": {
      "text/html": [
       "<div>\n",
       "<style scoped>\n",
       "    .dataframe tbody tr th:only-of-type {\n",
       "        vertical-align: middle;\n",
       "    }\n",
       "\n",
       "    .dataframe tbody tr th {\n",
       "        vertical-align: top;\n",
       "    }\n",
       "\n",
       "    .dataframe thead th {\n",
       "        text-align: right;\n",
       "    }\n",
       "</style>\n",
       "<table border=\"1\" class=\"dataframe\">\n",
       "  <thead>\n",
       "    <tr style=\"text-align: right;\">\n",
       "      <th></th>\n",
       "      <th>target</th>\n",
       "    </tr>\n",
       "    <tr>\n",
       "      <th>customer_ID</th>\n",
       "      <th></th>\n",
       "    </tr>\n",
       "  </thead>\n",
       "  <tbody>\n",
       "    <tr>\n",
       "      <th>fd4c7bc1f25a81c1fb312163300b3c274290274db5bb9644bedbb6e93cb43b78</th>\n",
       "      <td>0</td>\n",
       "    </tr>\n",
       "    <tr>\n",
       "      <th>bc481708906edce95b12e8a5dae6388b4915297ff51335333726e9249c0bbdf5</th>\n",
       "      <td>1</td>\n",
       "    </tr>\n",
       "    <tr>\n",
       "      <th>1ac9d919f1d52dcf0948f9de5b103a2a73ed1ec307b8aa156f4398b40f33c850</th>\n",
       "      <td>1</td>\n",
       "    </tr>\n",
       "    <tr>\n",
       "      <th>50cdae209ecbbbc3ed7717e2a011185f3dcf9253778d409e47d8058b0f7d0426</th>\n",
       "      <td>0</td>\n",
       "    </tr>\n",
       "    <tr>\n",
       "      <th>a516564cbe710367599548f0fd4710ab2b549f36bb318c526d8439055187a320</th>\n",
       "      <td>0</td>\n",
       "    </tr>\n",
       "    <tr>\n",
       "      <th>...</th>\n",
       "      <td>...</td>\n",
       "    </tr>\n",
       "    <tr>\n",
       "      <th>d8aff595434eea892f97bc12fa24bed600b0d8cf71d579207db22a239d8fd513</th>\n",
       "      <td>0</td>\n",
       "    </tr>\n",
       "    <tr>\n",
       "      <th>a9466942532c1c68cbe20b3969acadea4faa6454baeaad2b23a6cfab9dfcd941</th>\n",
       "      <td>0</td>\n",
       "    </tr>\n",
       "    <tr>\n",
       "      <th>63e85b15549b1dedf5d69c4293b61953ab9d88ec29ba6e3224ec2633098b6487</th>\n",
       "      <td>1</td>\n",
       "    </tr>\n",
       "    <tr>\n",
       "      <th>ea48581777dd5c5c6603554d01558e7cefb02568b01bc8782e965a992d370651</th>\n",
       "      <td>0</td>\n",
       "    </tr>\n",
       "    <tr>\n",
       "      <th>736cbeaccb3ff7b67d871b40d0504931e52a4def5febb03265dbe2f20d705db3</th>\n",
       "      <td>1</td>\n",
       "    </tr>\n",
       "  </tbody>\n",
       "</table>\n",
       "<p>458913 rows × 1 columns</p>\n",
       "</div>"
      ],
      "text/plain": [
       "                                                    target\n",
       "customer_ID                                               \n",
       "fd4c7bc1f25a81c1fb312163300b3c274290274db5bb964...       0\n",
       "bc481708906edce95b12e8a5dae6388b4915297ff513353...       1\n",
       "1ac9d919f1d52dcf0948f9de5b103a2a73ed1ec307b8aa1...       1\n",
       "50cdae209ecbbbc3ed7717e2a011185f3dcf9253778d409...       0\n",
       "a516564cbe710367599548f0fd4710ab2b549f36bb318c5...       0\n",
       "...                                                    ...\n",
       "d8aff595434eea892f97bc12fa24bed600b0d8cf71d5792...       0\n",
       "a9466942532c1c68cbe20b3969acadea4faa6454baeaad2...       0\n",
       "63e85b15549b1dedf5d69c4293b61953ab9d88ec29ba6e3...       1\n",
       "ea48581777dd5c5c6603554d01558e7cefb02568b01bc87...       0\n",
       "736cbeaccb3ff7b67d871b40d0504931e52a4def5febb03...       1\n",
       "\n",
       "[458913 rows x 1 columns]"
      ]
     },
     "execution_count": 31,
     "metadata": {},
     "output_type": "execute_result"
    }
   ],
   "source": [
    "y = data.target.to_frame()\n",
    "X = data.drop(\"target\", axis=1)\n",
    "y"
   ]
  },
  {
   "cell_type": "code",
   "execution_count": null,
   "id": "b4136df0-353a-45c7-bd14-fe079e56603f",
   "metadata": {
    "execution": {
     "iopub.execute_input": "2022-08-03T01:33:09.565303Z",
     "iopub.status.busy": "2022-08-03T01:33:09.564950Z"
    },
    "tags": []
   },
   "outputs": [
    {
     "name": "stdout",
     "output_type": "stream",
     "text": [
      "      Iter       Train Loss   Remaining Time \n",
      "         1           1.0463           34.39m\n"
     ]
    }
   ],
   "source": [
    "skf = StratifiedKFold(n_splits=4)\n",
    "StratifiedKFold(n_splits=5, random_state=None, shuffle=False)\n",
    "models = []\n",
    "for train_index, test_index in skf.split(X, y):\n",
    "    X_train, X_test = X.iloc[train_index,:], X.iloc[test_index,:]\n",
    "    y_train, y_test = y.iloc[train_index,:], y.iloc[test_index,:]\n",
    "\n",
    "    model = GradientBoostingClassifier(verbose=True)\n",
    "    model.fit(X_train, y_train.target)\n",
    "    models.append(model)\n",
    "    \n",
    "    y_pred = pd.DataFrame(model.predict(X_test), columns=[\"prediction\"])\n",
    "    print(\"mae validation:\", mean_absolute_error(y_test, y_pred))\n",
    "    print(\"amex metric validation:\", amex_metric(y_test, y_pred))\n",
    "    \n",
    "    y_pred = pd.DataFrame(model.predict(X), columns=[\"prediction\"])\n",
    "    print(\"mae tot:\", mean_absolute_error(y, y_pred))\n",
    "    print(\"amex metric tot:\", amex_metric(y, y_pred))\n",
    "    "
   ]
  },
  {
   "cell_type": "code",
   "execution_count": 22,
   "id": "3a4f14ab-981d-4dca-b7c6-d1577a6ae347",
   "metadata": {
    "execution": {
     "iopub.execute_input": "2022-08-02T03:56:31.322780Z",
     "iopub.status.busy": "2022-08-02T03:56:31.322386Z",
     "iopub.status.idle": "2022-08-02T03:56:31.328735Z",
     "shell.execute_reply": "2022-08-02T03:56:31.328149Z",
     "shell.execute_reply.started": "2022-08-02T03:56:31.322755Z"
    },
    "tags": []
   },
   "outputs": [],
   "source": [
    "filename = './models/xgb_stratified.sav'\n",
    "pickle.dump(models, open(filename, 'wb'))"
   ]
  },
  {
   "cell_type": "code",
   "execution_count": null,
   "id": "6ffe62ca-4367-46a6-8ead-a81d1d501b77",
   "metadata": {},
   "outputs": [],
   "source": []
  }
 ],
 "metadata": {
  "kernelspec": {
   "display_name": "saturn (Python 3)",
   "language": "python",
   "name": "python3"
  },
  "language_info": {
   "codemirror_mode": {
    "name": "ipython",
    "version": 3
   },
   "file_extension": ".py",
   "mimetype": "text/x-python",
   "name": "python",
   "nbconvert_exporter": "python",
   "pygments_lexer": "ipython3",
   "version": "3.9.10"
  }
 },
 "nbformat": 4,
 "nbformat_minor": 5
}
