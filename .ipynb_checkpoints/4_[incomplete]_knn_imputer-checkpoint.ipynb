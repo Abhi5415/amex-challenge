{
 "cells": [
  {
   "cell_type": "code",
   "execution_count": null,
   "id": "cb9b8ef1-855e-456a-986d-684a6888cd8f",
   "metadata": {
    "tags": []
   },
   "outputs": [],
   "source": [
    "import pickle\n",
    "import numpy as np\n",
    "import pandas as pd\n",
    "import glob \n",
    "import gc\n",
    "import os\n",
    "\n",
    "from datetime import datetime\n",
    "from pathlib import Path\n",
    "\n",
    "import matplotlib.pyplot as plt \n",
    "import matplotlib\n",
    "\n",
    "from numpy.random import randint\n",
    "\n",
    "from scipy.stats import linregress \n",
    "\n",
    "from sklearn.impute import KNNImputer, MissingIndicator\n",
    "from sklearn import preprocessing\n",
    "from sklearn.metrics import mean_absolute_error\n",
    "from sklearn.ensemble import GradientBoostingClassifier\n",
    "from sklearn.model_selection import train_test_split, cross_validate\n",
    "from sklearn.preprocessing import OneHotEncoder, StandardScaler\n",
    "from sklearn.compose import ColumnTransformer\n",
    "from sklearn.pipeline import Pipeline, FeatureUnion\n",
    "from sklearn.model_selection import StratifiedKFold\n",
    "from sklearn.base import BaseEstimator, TransformerMixin"
   ]
  },
  {
   "cell_type": "code",
   "execution_count": 2,
   "id": "2fe0f0c9-7146-420d-b563-0a94c8405372",
   "metadata": {
    "execution": {
     "iopub.execute_input": "2022-08-06T19:54:36.854587Z",
     "iopub.status.busy": "2022-08-06T19:54:36.854208Z",
     "iopub.status.idle": "2022-08-06T19:54:36.857517Z",
     "shell.execute_reply": "2022-08-06T19:54:36.857012Z",
     "shell.execute_reply.started": "2022-08-06T19:54:36.854565Z"
    },
    "tags": []
   },
   "outputs": [],
   "source": [
    "path = Path('/home/jovyan/workspace/amex-challenge/archive')"
   ]
  },
  {
   "cell_type": "code",
   "execution_count": 3,
   "id": "c2ba9d48-0934-4163-bd97-536e63b6aa57",
   "metadata": {
    "execution": {
     "iopub.execute_input": "2022-08-06T19:54:36.858491Z",
     "iopub.status.busy": "2022-08-06T19:54:36.858230Z",
     "iopub.status.idle": "2022-08-06T19:54:36.863002Z",
     "shell.execute_reply": "2022-08-06T19:54:36.862492Z",
     "shell.execute_reply.started": "2022-08-06T19:54:36.858471Z"
    },
    "tags": []
   },
   "outputs": [],
   "source": [
    "class DateTransformer(BaseEstimator, TransformerMixin):\n",
    "    def fit(self, X, y=None):\n",
    "        return self\n",
    "\n",
    "    def transform(self, X, y=None):\n",
    "        X[\"S_2\"] = pd.to_datetime(X[\"S_2\"]).astype(int)/ 10**9\n",
    "        return X\n",
    "    \n",
    "class CoalesceTransformer(BaseEstimator, TransformerMixin):\n",
    "    def fit(self, X, y=None):\n",
    "        return self\n",
    "\n",
    "    def transform(self, X, y=None):\n",
    "        X = X.sort_values('S_2').groupby(\"customer_ID\").tail(1)\n",
    "        return X"
   ]
  },
  {
   "cell_type": "code",
   "execution_count": 4,
   "id": "e3fa847f-48ed-4661-abe7-f37e7e41ad8f",
   "metadata": {
    "execution": {
     "iopub.execute_input": "2022-08-06T19:54:36.890826Z",
     "iopub.status.busy": "2022-08-06T19:54:36.890259Z",
     "iopub.status.idle": "2022-08-06T19:54:55.994877Z",
     "shell.execute_reply": "2022-08-06T19:54:55.994205Z",
     "shell.execute_reply.started": "2022-08-06T19:54:36.890803Z"
    },
    "tags": []
   },
   "outputs": [],
   "source": [
    "train_data = pd.read_feather(path / f'data/train_data.ftr')\n",
    "train_labels = pd.read_feather(path / f'data/train_labels.ftr')\n",
    "train_data = train_data.set_index(\"customer_ID\")\n",
    "train_labels = train_labels.set_index(\"customer_ID\")\n",
    "joined = train_data.join(train_labels)\n"
   ]
  },
  {
   "cell_type": "code",
   "execution_count": 5,
   "id": "42d68335-28d8-499f-b466-fefc311401ed",
   "metadata": {
    "execution": {
     "iopub.execute_input": "2022-08-06T19:54:55.996387Z",
     "iopub.status.busy": "2022-08-06T19:54:55.996078Z",
     "iopub.status.idle": "2022-08-06T19:54:58.565521Z",
     "shell.execute_reply": "2022-08-06T19:54:58.564886Z",
     "shell.execute_reply.started": "2022-08-06T19:54:55.996365Z"
    },
    "tags": []
   },
   "outputs": [],
   "source": [
    "categorical_cols = ['B_30', 'B_38', 'D_114', 'D_116', 'D_117', 'D_120', 'D_126', 'D_63', 'D_64', 'D_66', 'D_68']\n",
    "numerical_cols = set(joined.select_dtypes(include=(np.number)).columns)\n",
    "non_numeric_cols = set(joined.columns).difference(numerical_cols)\n",
    "cols_with_null = set(joined.columns[joined.isna().any()].tolist())"
   ]
  },
  {
   "cell_type": "code",
   "execution_count": 6,
   "id": "ac0dd1ac-1998-4cba-8009-77b4df9c3670",
   "metadata": {
    "execution": {
     "iopub.execute_input": "2022-08-06T19:54:58.566665Z",
     "iopub.status.busy": "2022-08-06T19:54:58.566364Z",
     "iopub.status.idle": "2022-08-06T19:54:58.569716Z",
     "shell.execute_reply": "2022-08-06T19:54:58.569211Z",
     "shell.execute_reply.started": "2022-08-06T19:54:58.566645Z"
    },
    "tags": []
   },
   "outputs": [],
   "source": [
    "non_leaking_pipe = Pipeline([\n",
    "    ('coalesce', CoalesceTransformer()),\n",
    "    ('date', DateTransformer()),\n",
    "])"
   ]
  },
  {
   "cell_type": "code",
   "execution_count": 7,
   "id": "7356cce1-8be8-495a-947d-f0bb8d4777dd",
   "metadata": {
    "execution": {
     "iopub.execute_input": "2022-08-06T19:54:58.571429Z",
     "iopub.status.busy": "2022-08-06T19:54:58.570954Z",
     "iopub.status.idle": "2022-08-06T19:55:21.341991Z",
     "shell.execute_reply": "2022-08-06T19:55:21.341351Z",
     "shell.execute_reply.started": "2022-08-06T19:54:58.571410Z"
    },
    "tags": []
   },
   "outputs": [],
   "source": [
    "joined_processed = non_leaking_pipe.fit_transform(joined)"
   ]
  },
  {
   "cell_type": "code",
   "execution_count": 8,
   "id": "01102ce5-5b05-4f2c-98ec-ff2e1cd7b90c",
   "metadata": {
    "execution": {
     "iopub.execute_input": "2022-08-06T19:55:21.343169Z",
     "iopub.status.busy": "2022-08-06T19:55:21.342844Z",
     "iopub.status.idle": "2022-08-06T19:55:22.074568Z",
     "shell.execute_reply": "2022-08-06T19:55:22.073941Z",
     "shell.execute_reply.started": "2022-08-06T19:55:21.343148Z"
    },
    "tags": []
   },
   "outputs": [],
   "source": [
    "y = joined_processed.target\n",
    "X = joined_processed.drop(\"target\", axis=1)"
   ]
  },
  {
   "cell_type": "code",
   "execution_count": 9,
   "id": "8d3233ff-6dfe-41ab-9509-399d4e921e27",
   "metadata": {
    "execution": {
     "iopub.execute_input": "2022-08-06T19:55:22.075643Z",
     "iopub.status.busy": "2022-08-06T19:55:22.075377Z",
     "iopub.status.idle": "2022-08-06T19:55:22.079648Z",
     "shell.execute_reply": "2022-08-06T19:55:22.079122Z",
     "shell.execute_reply.started": "2022-08-06T19:55:22.075622Z"
    },
    "tags": []
   },
   "outputs": [],
   "source": [
    "handle_null_numerical = FeatureUnion([\n",
    "         ('features', KNNImputer(n_neighbors=3)),\n",
    "         ('indicators', MissingIndicator())\n",
    "])\n",
    "\n",
    "preprocessor = ColumnTransformer([\n",
    "    ('categorical_encoder', OneHotEncoder(handle_unknown='ignore'), categorical_cols),\n",
    "    ('numerical_imputer', handle_null_numerical, list(cols_with_null - non_numeric_cols))\n",
    "], \n",
    "remainder=\"passthrough\")"
   ]
  },
  {
   "cell_type": "code",
   "execution_count": 10,
   "id": "b6e06bcf-ad61-46a9-aa53-4e7107fd1873",
   "metadata": {
    "execution": {
     "iopub.execute_input": "2022-08-06T19:55:22.080687Z",
     "iopub.status.busy": "2022-08-06T19:55:22.080332Z",
     "iopub.status.idle": "2022-08-06T19:55:22.083451Z",
     "shell.execute_reply": "2022-08-06T19:55:22.082941Z",
     "shell.execute_reply.started": "2022-08-06T19:55:22.080668Z"
    },
    "tags": []
   },
   "outputs": [],
   "source": [
    "pipe = Pipeline([\n",
    "    ('preprocessor', preprocessor),\n",
    "    ('selection', )\n",
    "    ('xgb', GradientBoostingClassifier(verbose=True))\n",
    "])"
   ]
  },
  {
   "cell_type": "code",
   "execution_count": null,
   "id": "2b437055-a412-4dff-ab43-a8d212da8aa6",
   "metadata": {
    "execution": {
     "iopub.execute_input": "2022-08-06T19:55:22.084377Z",
     "iopub.status.busy": "2022-08-06T19:55:22.084185Z"
    },
    "tags": []
   },
   "outputs": [],
   "source": [
    "cv = StratifiedKFold(n_splits=5, random_state=None, shuffle=False)\n",
    "scores = cross_validate(pipe, X, y, cv=cv, n_jobs=5,\n",
    "                        scoring=('precision', 'recall', 'f1', 'accuracy', 'balanced_accuracy'),\n",
    "                        return_train_score=True)"
   ]
  },
  {
   "cell_type": "code",
   "execution_count": null,
   "id": "1f405db9-d684-4eea-bcd9-c326f3d5453c",
   "metadata": {
    "tags": []
   },
   "outputs": [],
   "source": [
    "scores"
   ]
  },
  {
   "cell_type": "code",
   "execution_count": null,
   "id": "7a5de9ce-66e4-481c-9b33-6c67038a423a",
   "metadata": {},
   "outputs": [],
   "source": []
  }
 ],
 "metadata": {
  "kernelspec": {
   "display_name": "saturn (Python 3)",
   "language": "python",
   "name": "python3"
  },
  "language_info": {
   "codemirror_mode": {
    "name": "ipython",
    "version": 3
   },
   "file_extension": ".py",
   "mimetype": "text/x-python",
   "name": "python",
   "nbconvert_exporter": "python",
   "pygments_lexer": "ipython3",
   "version": "3.9.10"
  }
 },
 "nbformat": 4,
 "nbformat_minor": 5
}
