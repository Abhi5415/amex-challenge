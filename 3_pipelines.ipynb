{
 "cells": [
  {
   "cell_type": "code",
   "execution_count": 12,
   "id": "cb9b8ef1-855e-456a-986d-684a6888cd8f",
   "metadata": {
    "execution": {
     "iopub.execute_input": "2022-08-06T18:58:24.506274Z",
     "iopub.status.busy": "2022-08-06T18:58:24.505861Z",
     "iopub.status.idle": "2022-08-06T18:58:24.511519Z",
     "shell.execute_reply": "2022-08-06T18:58:24.510754Z",
     "shell.execute_reply.started": "2022-08-06T18:58:24.506248Z"
    },
    "tags": []
   },
   "outputs": [],
   "source": [
    "import pickle\n",
    "import numpy as np\n",
    "import pandas as pd\n",
    "import glob \n",
    "import gc\n",
    "import os\n",
    "\n",
    "from datetime import datetime\n",
    "from pathlib import Path\n",
    "\n",
    "import matplotlib.pyplot as plt \n",
    "import matplotlib\n",
    "\n",
    "from numpy.random import randint\n",
    "\n",
    "from scipy.stats import linregress \n",
    "\n",
    "from sklearn.impute import SimpleImputer, MissingIndicator\n",
    "from sklearn import preprocessing\n",
    "from sklearn.metrics import mean_absolute_error\n",
    "from sklearn.ensemble import GradientBoostingClassifier\n",
    "from sklearn.model_selection import train_test_split, cross_validate\n",
    "from sklearn.preprocessing import OneHotEncoder, StandardScaler\n",
    "from sklearn.compose import ColumnTransformer\n",
    "from sklearn.pipeline import Pipeline, FeatureUnion\n",
    "from sklearn.model_selection import StratifiedKFold\n",
    "from sklearn.base import BaseEstimator, TransformerMixin"
   ]
  },
  {
   "cell_type": "code",
   "execution_count": 2,
   "id": "2fe0f0c9-7146-420d-b563-0a94c8405372",
   "metadata": {
    "execution": {
     "iopub.execute_input": "2022-08-06T18:57:11.210758Z",
     "iopub.status.busy": "2022-08-06T18:57:11.210368Z",
     "iopub.status.idle": "2022-08-06T18:57:11.213660Z",
     "shell.execute_reply": "2022-08-06T18:57:11.213049Z",
     "shell.execute_reply.started": "2022-08-06T18:57:11.210735Z"
    },
    "tags": []
   },
   "outputs": [],
   "source": [
    "path = Path('/home/jovyan/workspace/amex-challenge/archive')"
   ]
  },
  {
   "cell_type": "code",
   "execution_count": 3,
   "id": "c2ba9d48-0934-4163-bd97-536e63b6aa57",
   "metadata": {
    "execution": {
     "iopub.execute_input": "2022-08-06T18:57:11.214630Z",
     "iopub.status.busy": "2022-08-06T18:57:11.214360Z",
     "iopub.status.idle": "2022-08-06T18:57:11.219062Z",
     "shell.execute_reply": "2022-08-06T18:57:11.218543Z",
     "shell.execute_reply.started": "2022-08-06T18:57:11.214596Z"
    },
    "tags": []
   },
   "outputs": [],
   "source": [
    "class DateTransformer(BaseEstimator, TransformerMixin):\n",
    "    def fit(self, X, y=None):\n",
    "        return self\n",
    "\n",
    "    def transform(self, X, y=None):\n",
    "        X[\"S_2\"] = pd.to_datetime(X[\"S_2\"]).astype(int)/ 10**9\n",
    "        return X\n",
    "    \n",
    "class CoalesceTransformer(BaseEstimator, TransformerMixin):\n",
    "    def fit(self, X, y=None):\n",
    "        return self\n",
    "\n",
    "    def transform(self, X, y=None):\n",
    "        X = X.sort_values('S_2').groupby(\"customer_ID\").tail(1)\n",
    "        return X"
   ]
  },
  {
   "cell_type": "code",
   "execution_count": 4,
   "id": "e3fa847f-48ed-4661-abe7-f37e7e41ad8f",
   "metadata": {
    "execution": {
     "iopub.execute_input": "2022-08-06T18:57:11.220451Z",
     "iopub.status.busy": "2022-08-06T18:57:11.220168Z",
     "iopub.status.idle": "2022-08-06T18:57:30.392310Z",
     "shell.execute_reply": "2022-08-06T18:57:30.391645Z",
     "shell.execute_reply.started": "2022-08-06T18:57:11.220432Z"
    },
    "tags": []
   },
   "outputs": [],
   "source": [
    "train_data = pd.read_feather(path / f'data/train_data.ftr')\n",
    "train_labels = pd.read_feather(path / f'data/train_labels.ftr')\n",
    "train_data = train_data.set_index(\"customer_ID\")\n",
    "train_labels = train_labels.set_index(\"customer_ID\")\n",
    "joined = train_data.join(train_labels)\n"
   ]
  },
  {
   "cell_type": "code",
   "execution_count": 6,
   "id": "42d68335-28d8-499f-b466-fefc311401ed",
   "metadata": {
    "execution": {
     "iopub.execute_input": "2022-08-06T18:57:45.648585Z",
     "iopub.status.busy": "2022-08-06T18:57:45.648182Z",
     "iopub.status.idle": "2022-08-06T18:57:48.312527Z",
     "shell.execute_reply": "2022-08-06T18:57:48.311877Z",
     "shell.execute_reply.started": "2022-08-06T18:57:45.648560Z"
    },
    "tags": []
   },
   "outputs": [],
   "source": [
    "categorical_cols = ['B_30', 'B_38', 'D_114', 'D_116', 'D_117', 'D_120', 'D_126', 'D_63', 'D_64', 'D_66', 'D_68']\n",
    "numerical_cols = set(joined.select_dtypes(include=(np.number)).columns)\n",
    "non_numeric_cols = set(joined.columns).difference(numerical_cols)\n",
    "cols_with_null = set(joined.columns[joined.isna().any()].tolist())"
   ]
  },
  {
   "cell_type": "code",
   "execution_count": 7,
   "id": "ac0dd1ac-1998-4cba-8009-77b4df9c3670",
   "metadata": {
    "execution": {
     "iopub.execute_input": "2022-08-06T18:57:48.313974Z",
     "iopub.status.busy": "2022-08-06T18:57:48.313645Z",
     "iopub.status.idle": "2022-08-06T18:57:48.317075Z",
     "shell.execute_reply": "2022-08-06T18:57:48.316546Z",
     "shell.execute_reply.started": "2022-08-06T18:57:48.313952Z"
    },
    "tags": []
   },
   "outputs": [],
   "source": [
    "non_leaking_pipe = Pipeline([\n",
    "    ('coalesce', CoalesceTransformer()),\n",
    "    ('date', DateTransformer()),\n",
    "])"
   ]
  },
  {
   "cell_type": "code",
   "execution_count": 8,
   "id": "7356cce1-8be8-495a-947d-f0bb8d4777dd",
   "metadata": {
    "execution": {
     "iopub.execute_input": "2022-08-06T18:57:50.168465Z",
     "iopub.status.busy": "2022-08-06T18:57:50.168077Z",
     "iopub.status.idle": "2022-08-06T18:58:12.938870Z",
     "shell.execute_reply": "2022-08-06T18:58:12.938185Z",
     "shell.execute_reply.started": "2022-08-06T18:57:50.168441Z"
    },
    "tags": []
   },
   "outputs": [],
   "source": [
    "joined_processed = non_leaking_pipe.fit_transform(joined)"
   ]
  },
  {
   "cell_type": "code",
   "execution_count": 9,
   "id": "01102ce5-5b05-4f2c-98ec-ff2e1cd7b90c",
   "metadata": {
    "execution": {
     "iopub.execute_input": "2022-08-06T18:58:12.941049Z",
     "iopub.status.busy": "2022-08-06T18:58:12.940335Z",
     "iopub.status.idle": "2022-08-06T18:58:13.663617Z",
     "shell.execute_reply": "2022-08-06T18:58:13.662957Z",
     "shell.execute_reply.started": "2022-08-06T18:58:12.941013Z"
    },
    "tags": []
   },
   "outputs": [],
   "source": [
    "y = joined_processed.target\n",
    "X = joined_processed.drop(\"target\", axis=1)"
   ]
  },
  {
   "cell_type": "code",
   "execution_count": 10,
   "id": "8d3233ff-6dfe-41ab-9509-399d4e921e27",
   "metadata": {
    "execution": {
     "iopub.execute_input": "2022-08-06T18:58:13.665093Z",
     "iopub.status.busy": "2022-08-06T18:58:13.664609Z",
     "iopub.status.idle": "2022-08-06T18:58:13.670110Z",
     "shell.execute_reply": "2022-08-06T18:58:13.669560Z",
     "shell.execute_reply.started": "2022-08-06T18:58:13.665059Z"
    },
    "tags": []
   },
   "outputs": [],
   "source": [
    "handle_null_numerical = FeatureUnion([\n",
    "         ('features', SimpleImputer(strategy='mean')),\n",
    "         ('indicators', MissingIndicator())\n",
    "])\n",
    "\n",
    "preprocessor = ColumnTransformer([\n",
    "    ('categorical_encoder', OneHotEncoder(handle_unknown='ignore'), categorical_cols),\n",
    "    ('numerical_imputer', handle_null_numerical, list(cols_with_null - non_numeric_cols))\n",
    "], \n",
    "remainder=\"passthrough\")"
   ]
  },
  {
   "cell_type": "code",
   "execution_count": 13,
   "id": "b6e06bcf-ad61-46a9-aa53-4e7107fd1873",
   "metadata": {
    "execution": {
     "iopub.execute_input": "2022-08-06T18:58:28.686395Z",
     "iopub.status.busy": "2022-08-06T18:58:28.685994Z",
     "iopub.status.idle": "2022-08-06T18:58:28.689949Z",
     "shell.execute_reply": "2022-08-06T18:58:28.689219Z",
     "shell.execute_reply.started": "2022-08-06T18:58:28.686371Z"
    },
    "tags": []
   },
   "outputs": [],
   "source": [
    "pipe = Pipeline([\n",
    "    ('preprocessor', preprocessor),\n",
    "    ('xgb', GradientBoostingClassifier(verbose=True))\n",
    "])"
   ]
  },
  {
   "cell_type": "code",
   "execution_count": 14,
   "id": "2b437055-a412-4dff-ab43-a8d212da8aa6",
   "metadata": {
    "execution": {
     "iopub.execute_input": "2022-08-06T18:58:29.314570Z",
     "iopub.status.busy": "2022-08-06T18:58:29.314179Z",
     "iopub.status.idle": "2022-08-06T19:43:59.729318Z",
     "shell.execute_reply": "2022-08-06T19:43:59.728631Z",
     "shell.execute_reply.started": "2022-08-06T18:58:29.314544Z"
    },
    "tags": []
   },
   "outputs": [],
   "source": [
    "cv = StratifiedKFold(n_splits=5, random_state=None, shuffle=False)\n",
    "scores = cross_validate(pipe, X, y, cv=cv, n_jobs=5,\n",
    "                        scoring=('precision', 'recall', 'f1', 'accuracy', 'balanced_accuracy'),\n",
    "                        return_train_score=True)"
   ]
  },
  {
   "cell_type": "code",
   "execution_count": 15,
   "id": "1f405db9-d684-4eea-bcd9-c326f3d5453c",
   "metadata": {
    "execution": {
     "iopub.execute_input": "2022-08-06T19:43:59.731010Z",
     "iopub.status.busy": "2022-08-06T19:43:59.730707Z",
     "iopub.status.idle": "2022-08-06T19:43:59.739822Z",
     "shell.execute_reply": "2022-08-06T19:43:59.739267Z",
     "shell.execute_reply.started": "2022-08-06T19:43:59.730987Z"
    },
    "tags": []
   },
   "outputs": [
    {
     "data": {
      "text/plain": [
       "{'fit_time': array([2709.66118097, 2707.46165633, 2721.52244163, 2716.5065341 ,\n",
       "        2715.95931387]),\n",
       " 'score_time': array([1.1730206 , 1.15367079, 1.12866497, 1.12701178, 1.12319946]),\n",
       " 'test_precision': array([0.76521159, 0.8027463 , 0.80547422, 0.80904565, 0.79952389]),\n",
       " 'train_precision': array([0.80475559, 0.80191019, 0.80106654, 0.80249696, 0.80365818]),\n",
       " 'test_recall': array([0.82020534, 0.80190188, 0.79866195, 0.80012624, 0.79141595]),\n",
       " 'train_recall': array([0.80426459, 0.79932044, 0.79958343, 0.79787089, 0.80052176]),\n",
       " 'test_f1': array([0.79175467, 0.80232387, 0.80205362, 0.80456123, 0.79544926]),\n",
       " 'train_f1': array([0.80451001, 0.80061322, 0.8003243 , 0.80017724, 0.8020869 ]),\n",
       " 'test_accuracy': array([0.88827996, 0.89768258, 0.89792227, 0.89934846, 0.89460896]),\n",
       " 'train_accuracy': array([0.89879334, 0.89691118, 0.89669055, 0.89681612, 0.89770681]),\n",
       " 'test_balanced_accuracy': array([0.86613572, 0.86652572, 0.86563352, 0.86707137, 0.86104017]),\n",
       " 'train_balanced_accuracy': array([0.86804339, 0.86516517, 0.86510186, 0.86462968, 0.86609295])}"
      ]
     },
     "execution_count": 15,
     "metadata": {},
     "output_type": "execute_result"
    }
   ],
   "source": [
    "scores"
   ]
  },
  {
   "cell_type": "code",
   "execution_count": null,
   "id": "c5caa8ca-d758-4973-a446-7d19b5602528",
   "metadata": {},
   "outputs": [],
   "source": []
  }
 ],
 "metadata": {
  "kernelspec": {
   "display_name": "saturn (Python 3)",
   "language": "python",
   "name": "python3"
  },
  "language_info": {
   "codemirror_mode": {
    "name": "ipython",
    "version": 3
   },
   "file_extension": ".py",
   "mimetype": "text/x-python",
   "name": "python",
   "nbconvert_exporter": "python",
   "pygments_lexer": "ipython3",
   "version": "3.9.10"
  }
 },
 "nbformat": 4,
 "nbformat_minor": 5
}
